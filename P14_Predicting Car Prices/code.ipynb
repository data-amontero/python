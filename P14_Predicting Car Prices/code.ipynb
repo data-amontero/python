{
 "cells": [
  {
   "cell_type": "markdown",
   "metadata": {
    "collapsed": true
   },
   "source": [
    "# P14. Predicting Car Prices\n",
    "\n",
    "In this project we will be applying some basic machine learning algorithm to predict a car's market price using its attribute. The dataset contains information about the technical aspects of several vehicles.\n"
   ]
  },
  {
   "cell_type": "code",
   "execution_count": 1,
   "metadata": {
    "collapsed": false
   },
   "outputs": [
    {
     "data": {
      "text/html": [
       "<div>\n",
       "<style scoped>\n",
       "    .dataframe tbody tr th:only-of-type {\n",
       "        vertical-align: middle;\n",
       "    }\n",
       "\n",
       "    .dataframe tbody tr th {\n",
       "        vertical-align: top;\n",
       "    }\n",
       "\n",
       "    .dataframe thead th {\n",
       "        text-align: right;\n",
       "    }\n",
       "</style>\n",
       "<table border=\"1\" class=\"dataframe\">\n",
       "  <thead>\n",
       "    <tr style=\"text-align: right;\">\n",
       "      <th></th>\n",
       "      <th>0</th>\n",
       "      <th>1</th>\n",
       "      <th>2</th>\n",
       "      <th>3</th>\n",
       "      <th>4</th>\n",
       "      <th>5</th>\n",
       "      <th>6</th>\n",
       "      <th>7</th>\n",
       "      <th>8</th>\n",
       "      <th>9</th>\n",
       "      <th>...</th>\n",
       "      <th>16</th>\n",
       "      <th>17</th>\n",
       "      <th>18</th>\n",
       "      <th>19</th>\n",
       "      <th>20</th>\n",
       "      <th>21</th>\n",
       "      <th>22</th>\n",
       "      <th>23</th>\n",
       "      <th>24</th>\n",
       "      <th>25</th>\n",
       "    </tr>\n",
       "  </thead>\n",
       "  <tbody>\n",
       "    <tr>\n",
       "      <th>0</th>\n",
       "      <td>3</td>\n",
       "      <td>?</td>\n",
       "      <td>alfa-romero</td>\n",
       "      <td>gas</td>\n",
       "      <td>std</td>\n",
       "      <td>two</td>\n",
       "      <td>convertible</td>\n",
       "      <td>rwd</td>\n",
       "      <td>front</td>\n",
       "      <td>88.6</td>\n",
       "      <td>...</td>\n",
       "      <td>130</td>\n",
       "      <td>mpfi</td>\n",
       "      <td>3.47</td>\n",
       "      <td>2.68</td>\n",
       "      <td>9.0</td>\n",
       "      <td>111</td>\n",
       "      <td>5000</td>\n",
       "      <td>21</td>\n",
       "      <td>27</td>\n",
       "      <td>13495</td>\n",
       "    </tr>\n",
       "    <tr>\n",
       "      <th>1</th>\n",
       "      <td>3</td>\n",
       "      <td>?</td>\n",
       "      <td>alfa-romero</td>\n",
       "      <td>gas</td>\n",
       "      <td>std</td>\n",
       "      <td>two</td>\n",
       "      <td>convertible</td>\n",
       "      <td>rwd</td>\n",
       "      <td>front</td>\n",
       "      <td>88.6</td>\n",
       "      <td>...</td>\n",
       "      <td>130</td>\n",
       "      <td>mpfi</td>\n",
       "      <td>3.47</td>\n",
       "      <td>2.68</td>\n",
       "      <td>9.0</td>\n",
       "      <td>111</td>\n",
       "      <td>5000</td>\n",
       "      <td>21</td>\n",
       "      <td>27</td>\n",
       "      <td>16500</td>\n",
       "    </tr>\n",
       "    <tr>\n",
       "      <th>2</th>\n",
       "      <td>1</td>\n",
       "      <td>?</td>\n",
       "      <td>alfa-romero</td>\n",
       "      <td>gas</td>\n",
       "      <td>std</td>\n",
       "      <td>two</td>\n",
       "      <td>hatchback</td>\n",
       "      <td>rwd</td>\n",
       "      <td>front</td>\n",
       "      <td>94.5</td>\n",
       "      <td>...</td>\n",
       "      <td>152</td>\n",
       "      <td>mpfi</td>\n",
       "      <td>2.68</td>\n",
       "      <td>3.47</td>\n",
       "      <td>9.0</td>\n",
       "      <td>154</td>\n",
       "      <td>5000</td>\n",
       "      <td>19</td>\n",
       "      <td>26</td>\n",
       "      <td>16500</td>\n",
       "    </tr>\n",
       "    <tr>\n",
       "      <th>3</th>\n",
       "      <td>2</td>\n",
       "      <td>164</td>\n",
       "      <td>audi</td>\n",
       "      <td>gas</td>\n",
       "      <td>std</td>\n",
       "      <td>four</td>\n",
       "      <td>sedan</td>\n",
       "      <td>fwd</td>\n",
       "      <td>front</td>\n",
       "      <td>99.8</td>\n",
       "      <td>...</td>\n",
       "      <td>109</td>\n",
       "      <td>mpfi</td>\n",
       "      <td>3.19</td>\n",
       "      <td>3.40</td>\n",
       "      <td>10.0</td>\n",
       "      <td>102</td>\n",
       "      <td>5500</td>\n",
       "      <td>24</td>\n",
       "      <td>30</td>\n",
       "      <td>13950</td>\n",
       "    </tr>\n",
       "    <tr>\n",
       "      <th>4</th>\n",
       "      <td>2</td>\n",
       "      <td>164</td>\n",
       "      <td>audi</td>\n",
       "      <td>gas</td>\n",
       "      <td>std</td>\n",
       "      <td>four</td>\n",
       "      <td>sedan</td>\n",
       "      <td>4wd</td>\n",
       "      <td>front</td>\n",
       "      <td>99.4</td>\n",
       "      <td>...</td>\n",
       "      <td>136</td>\n",
       "      <td>mpfi</td>\n",
       "      <td>3.19</td>\n",
       "      <td>3.40</td>\n",
       "      <td>8.0</td>\n",
       "      <td>115</td>\n",
       "      <td>5500</td>\n",
       "      <td>18</td>\n",
       "      <td>22</td>\n",
       "      <td>17450</td>\n",
       "    </tr>\n",
       "  </tbody>\n",
       "</table>\n",
       "<p>5 rows × 26 columns</p>\n",
       "</div>"
      ],
      "text/plain": [
       "   0    1            2    3    4     5            6    7      8     9   ...    \\\n",
       "0   3    ?  alfa-romero  gas  std   two  convertible  rwd  front  88.6  ...     \n",
       "1   3    ?  alfa-romero  gas  std   two  convertible  rwd  front  88.6  ...     \n",
       "2   1    ?  alfa-romero  gas  std   two    hatchback  rwd  front  94.5  ...     \n",
       "3   2  164         audi  gas  std  four        sedan  fwd  front  99.8  ...     \n",
       "4   2  164         audi  gas  std  four        sedan  4wd  front  99.4  ...     \n",
       "\n",
       "    16    17    18    19    20   21    22  23  24     25  \n",
       "0  130  mpfi  3.47  2.68   9.0  111  5000  21  27  13495  \n",
       "1  130  mpfi  3.47  2.68   9.0  111  5000  21  27  16500  \n",
       "2  152  mpfi  2.68  3.47   9.0  154  5000  19  26  16500  \n",
       "3  109  mpfi  3.19  3.40  10.0  102  5500  24  30  13950  \n",
       "4  136  mpfi  3.19  3.40   8.0  115  5500  18  22  17450  \n",
       "\n",
       "[5 rows x 26 columns]"
      ]
     },
     "execution_count": 1,
     "metadata": {},
     "output_type": "execute_result"
    }
   ],
   "source": [
    "# reading the dataset\n",
    "\n",
    "import pandas as pd\n",
    "cars = pd.read_csv('imports-85.data', header=None)\n",
    "cars.head()\n"
   ]
  },
  {
   "cell_type": "code",
   "execution_count": 2,
   "metadata": {
    "collapsed": false
   },
   "outputs": [
    {
     "data": {
      "text/plain": [
       "symboling                      3\n",
       "normalized_losses              ?\n",
       "make                 alfa-romero\n",
       "fuel_type                    gas\n",
       "aspirations                  std\n",
       "num_doors                    two\n",
       "body_style           convertible\n",
       "drive_wheels                 rwd\n",
       "engine_location            front\n",
       "wheel_base                  88.6\n",
       "length                     168.8\n",
       "width                       64.1\n",
       "height                      48.8\n",
       "curb_weight                 2548\n",
       "engine_type                 dohc\n",
       "num_cylinders               four\n",
       "engine_size                  130\n",
       "fuel_system                 mpfi\n",
       "bore                        3.47\n",
       "stroke                      2.68\n",
       "compression_ratio              9\n",
       "horsepower                   111\n",
       "peak_rpm                    5000\n",
       "city_mpg                      21\n",
       "highway_mpg                   27\n",
       "price                      13495\n",
       "Name: 0, dtype: object"
      ]
     },
     "execution_count": 2,
     "metadata": {},
     "output_type": "execute_result"
    }
   ],
   "source": [
    "#fixing columns\n",
    "\n",
    "cols = ['symboling', 'normalized_losses', 'make', 'fuel_type', 'aspirations',\n",
    "       'num_doors', 'body_style', 'drive_wheels', 'engine_location', 'wheel_base',\n",
    "       'length', 'width', 'height', 'curb_weight', 'engine_type', 'num_cylinders',\n",
    "       'engine_size', 'fuel_system', 'bore', 'stroke', 'compression_ratio', \n",
    "       'horsepower', 'peak_rpm', 'city_mpg', 'highway_mpg', 'price']\n",
    "cars.columns = cols\n",
    "cars.head()\n",
    "cars.iloc[0]"
   ]
  },
  {
   "cell_type": "markdown",
   "metadata": {},
   "source": [
    "## Determine which columns are Numeric"
   ]
  },
  {
   "cell_type": "code",
   "execution_count": 3,
   "metadata": {
    "collapsed": false
   },
   "outputs": [
    {
     "data": {
      "text/plain": [
       "['symboling',\n",
       " 'wheel_base',\n",
       " 'length',\n",
       " 'width',\n",
       " 'height',\n",
       " 'curb_weight',\n",
       " 'engine_size',\n",
       " 'compression_ratio',\n",
       " 'city_mpg',\n",
       " 'highway_mpg']"
      ]
     },
     "execution_count": 3,
     "metadata": {},
     "output_type": "execute_result"
    }
   ],
   "source": [
    "num_columns = []\n",
    "\n",
    "for i in cars.columns:\n",
    "    if cars[i].dtype != object:\n",
    "        num_columns.append(i)\n",
    "\n",
    "num_columns\n",
    "\n",
    "#in addition, num_doors and num_cylinders appear to be numeric. \n",
    "#the target column is 'Price'\n",
    "\n"
   ]
  },
  {
   "cell_type": "markdown",
   "metadata": {},
   "source": [
    "## Data Cleaning"
   ]
  },
  {
   "cell_type": "code",
   "execution_count": 4,
   "metadata": {
    "collapsed": false
   },
   "outputs": [
    {
     "data": {
      "text/html": [
       "<div>\n",
       "<style scoped>\n",
       "    .dataframe tbody tr th:only-of-type {\n",
       "        vertical-align: middle;\n",
       "    }\n",
       "\n",
       "    .dataframe tbody tr th {\n",
       "        vertical-align: top;\n",
       "    }\n",
       "\n",
       "    .dataframe thead th {\n",
       "        text-align: right;\n",
       "    }\n",
       "</style>\n",
       "<table border=\"1\" class=\"dataframe\">\n",
       "  <thead>\n",
       "    <tr style=\"text-align: right;\">\n",
       "      <th></th>\n",
       "      <th>symboling</th>\n",
       "      <th>normalized_losses</th>\n",
       "      <th>make</th>\n",
       "      <th>fuel_type</th>\n",
       "      <th>aspirations</th>\n",
       "      <th>num_doors</th>\n",
       "      <th>body_style</th>\n",
       "      <th>drive_wheels</th>\n",
       "      <th>engine_location</th>\n",
       "      <th>wheel_base</th>\n",
       "      <th>...</th>\n",
       "      <th>engine_size</th>\n",
       "      <th>fuel_system</th>\n",
       "      <th>bore</th>\n",
       "      <th>stroke</th>\n",
       "      <th>compression_ratio</th>\n",
       "      <th>horsepower</th>\n",
       "      <th>peak_rpm</th>\n",
       "      <th>city_mpg</th>\n",
       "      <th>highway_mpg</th>\n",
       "      <th>price</th>\n",
       "    </tr>\n",
       "  </thead>\n",
       "  <tbody>\n",
       "    <tr>\n",
       "      <th>0</th>\n",
       "      <td>3</td>\n",
       "      <td>NaN</td>\n",
       "      <td>alfa-romero</td>\n",
       "      <td>gas</td>\n",
       "      <td>std</td>\n",
       "      <td>two</td>\n",
       "      <td>convertible</td>\n",
       "      <td>rwd</td>\n",
       "      <td>front</td>\n",
       "      <td>88.6</td>\n",
       "      <td>...</td>\n",
       "      <td>130</td>\n",
       "      <td>mpfi</td>\n",
       "      <td>3.47</td>\n",
       "      <td>2.68</td>\n",
       "      <td>9.0</td>\n",
       "      <td>111</td>\n",
       "      <td>5000</td>\n",
       "      <td>21</td>\n",
       "      <td>27</td>\n",
       "      <td>13495</td>\n",
       "    </tr>\n",
       "    <tr>\n",
       "      <th>1</th>\n",
       "      <td>3</td>\n",
       "      <td>NaN</td>\n",
       "      <td>alfa-romero</td>\n",
       "      <td>gas</td>\n",
       "      <td>std</td>\n",
       "      <td>two</td>\n",
       "      <td>convertible</td>\n",
       "      <td>rwd</td>\n",
       "      <td>front</td>\n",
       "      <td>88.6</td>\n",
       "      <td>...</td>\n",
       "      <td>130</td>\n",
       "      <td>mpfi</td>\n",
       "      <td>3.47</td>\n",
       "      <td>2.68</td>\n",
       "      <td>9.0</td>\n",
       "      <td>111</td>\n",
       "      <td>5000</td>\n",
       "      <td>21</td>\n",
       "      <td>27</td>\n",
       "      <td>16500</td>\n",
       "    </tr>\n",
       "    <tr>\n",
       "      <th>2</th>\n",
       "      <td>1</td>\n",
       "      <td>NaN</td>\n",
       "      <td>alfa-romero</td>\n",
       "      <td>gas</td>\n",
       "      <td>std</td>\n",
       "      <td>two</td>\n",
       "      <td>hatchback</td>\n",
       "      <td>rwd</td>\n",
       "      <td>front</td>\n",
       "      <td>94.5</td>\n",
       "      <td>...</td>\n",
       "      <td>152</td>\n",
       "      <td>mpfi</td>\n",
       "      <td>2.68</td>\n",
       "      <td>3.47</td>\n",
       "      <td>9.0</td>\n",
       "      <td>154</td>\n",
       "      <td>5000</td>\n",
       "      <td>19</td>\n",
       "      <td>26</td>\n",
       "      <td>16500</td>\n",
       "    </tr>\n",
       "    <tr>\n",
       "      <th>3</th>\n",
       "      <td>2</td>\n",
       "      <td>164</td>\n",
       "      <td>audi</td>\n",
       "      <td>gas</td>\n",
       "      <td>std</td>\n",
       "      <td>four</td>\n",
       "      <td>sedan</td>\n",
       "      <td>fwd</td>\n",
       "      <td>front</td>\n",
       "      <td>99.8</td>\n",
       "      <td>...</td>\n",
       "      <td>109</td>\n",
       "      <td>mpfi</td>\n",
       "      <td>3.19</td>\n",
       "      <td>3.40</td>\n",
       "      <td>10.0</td>\n",
       "      <td>102</td>\n",
       "      <td>5500</td>\n",
       "      <td>24</td>\n",
       "      <td>30</td>\n",
       "      <td>13950</td>\n",
       "    </tr>\n",
       "    <tr>\n",
       "      <th>4</th>\n",
       "      <td>2</td>\n",
       "      <td>164</td>\n",
       "      <td>audi</td>\n",
       "      <td>gas</td>\n",
       "      <td>std</td>\n",
       "      <td>four</td>\n",
       "      <td>sedan</td>\n",
       "      <td>4wd</td>\n",
       "      <td>front</td>\n",
       "      <td>99.4</td>\n",
       "      <td>...</td>\n",
       "      <td>136</td>\n",
       "      <td>mpfi</td>\n",
       "      <td>3.19</td>\n",
       "      <td>3.40</td>\n",
       "      <td>8.0</td>\n",
       "      <td>115</td>\n",
       "      <td>5500</td>\n",
       "      <td>18</td>\n",
       "      <td>22</td>\n",
       "      <td>17450</td>\n",
       "    </tr>\n",
       "  </tbody>\n",
       "</table>\n",
       "<p>5 rows × 26 columns</p>\n",
       "</div>"
      ],
      "text/plain": [
       "   symboling normalized_losses         make fuel_type aspirations num_doors  \\\n",
       "0          3               NaN  alfa-romero       gas         std       two   \n",
       "1          3               NaN  alfa-romero       gas         std       two   \n",
       "2          1               NaN  alfa-romero       gas         std       two   \n",
       "3          2               164         audi       gas         std      four   \n",
       "4          2               164         audi       gas         std      four   \n",
       "\n",
       "    body_style drive_wheels engine_location  wheel_base  ...    engine_size  \\\n",
       "0  convertible          rwd           front        88.6  ...            130   \n",
       "1  convertible          rwd           front        88.6  ...            130   \n",
       "2    hatchback          rwd           front        94.5  ...            152   \n",
       "3        sedan          fwd           front        99.8  ...            109   \n",
       "4        sedan          4wd           front        99.4  ...            136   \n",
       "\n",
       "   fuel_system  bore  stroke compression_ratio horsepower  peak_rpm city_mpg  \\\n",
       "0         mpfi  3.47    2.68               9.0        111      5000       21   \n",
       "1         mpfi  3.47    2.68               9.0        111      5000       21   \n",
       "2         mpfi  2.68    3.47               9.0        154      5000       19   \n",
       "3         mpfi  3.19    3.40              10.0        102      5500       24   \n",
       "4         mpfi  3.19    3.40               8.0        115      5500       18   \n",
       "\n",
       "  highway_mpg  price  \n",
       "0          27  13495  \n",
       "1          27  16500  \n",
       "2          26  16500  \n",
       "3          30  13950  \n",
       "4          22  17450  \n",
       "\n",
       "[5 rows x 26 columns]"
      ]
     },
     "execution_count": 4,
     "metadata": {},
     "output_type": "execute_result"
    }
   ],
   "source": [
    "# replacing ? from 'normalized_losses' with numpy.nan\n",
    "\n",
    "import numpy as np\n",
    "\n",
    "cars['normalized_losses'] = cars['normalized_losses'].replace('?', np.nan)\n",
    "cars = cars.replace('?', np.nan)\n",
    "cars.head()"
   ]
  },
  {
   "cell_type": "code",
   "execution_count": 5,
   "metadata": {
    "collapsed": false
   },
   "outputs": [
    {
     "name": "stdout",
     "output_type": "stream",
     "text": [
      "symboling, int64\n",
      "normalized_losses, float64\n",
      "make, object\n",
      "fuel_type, object\n",
      "aspirations, object\n",
      "num_doors, object\n",
      "body_style, object\n",
      "drive_wheels, object\n",
      "engine_location, object\n",
      "wheel_base, float64\n",
      "length, float64\n",
      "width, float64\n",
      "height, float64\n",
      "curb_weight, int64\n",
      "engine_type, object\n",
      "num_cylinders, object\n",
      "engine_size, int64\n",
      "fuel_system, object\n",
      "bore, object\n",
      "stroke, object\n",
      "compression_ratio, float64\n",
      "horsepower, object\n",
      "peak_rpm, object\n",
      "city_mpg, int64\n",
      "highway_mpg, int64\n",
      "price, object\n"
     ]
    }
   ],
   "source": [
    "cars['normalized_losses'] = cars['normalized_losses'].astype('float')\n",
    "\n",
    "\n",
    "for i in cars.columns:\n",
    "    print (str(i) + ', ' + str(cars[i].dtype))\n"
   ]
  },
  {
   "cell_type": "code",
   "execution_count": 6,
   "metadata": {
    "collapsed": false
   },
   "outputs": [
    {
     "data": {
      "text/plain": [
       "41"
      ]
     },
     "execution_count": 6,
     "metadata": {},
     "output_type": "execute_result"
    }
   ],
   "source": [
    "#determining number of rows with missing values\n",
    "cars['normalized_losses'].isnull().sum()"
   ]
  },
  {
   "cell_type": "code",
   "execution_count": 7,
   "metadata": {
    "collapsed": false
   },
   "outputs": [
    {
     "name": "stdout",
     "output_type": "stream",
     "text": [
      "<class 'pandas.core.frame.DataFrame'>\n",
      "RangeIndex: 205 entries, 0 to 204\n",
      "Data columns (total 26 columns):\n",
      "symboling            205 non-null int64\n",
      "normalized_losses    205 non-null float64\n",
      "make                 205 non-null object\n",
      "fuel_type            205 non-null object\n",
      "aspirations          205 non-null object\n",
      "num_doors            203 non-null object\n",
      "body_style           205 non-null object\n",
      "drive_wheels         205 non-null object\n",
      "engine_location      205 non-null object\n",
      "wheel_base           205 non-null float64\n",
      "length               205 non-null float64\n",
      "width                205 non-null float64\n",
      "height               205 non-null float64\n",
      "curb_weight          205 non-null int64\n",
      "engine_type          205 non-null object\n",
      "num_cylinders        205 non-null object\n",
      "engine_size          205 non-null int64\n",
      "fuel_system          205 non-null object\n",
      "bore                 201 non-null float64\n",
      "stroke               201 non-null float64\n",
      "compression_ratio    205 non-null float64\n",
      "horsepower           203 non-null float64\n",
      "peak_rpm             203 non-null float64\n",
      "city_mpg             205 non-null int64\n",
      "highway_mpg          205 non-null int64\n",
      "price                201 non-null object\n",
      "dtypes: float64(10), int64(5), object(11)\n",
      "memory usage: 41.7+ KB\n"
     ]
    }
   ],
   "source": [
    "## replacing missing values with the mean of column\n",
    "cars['normalized_losses'] = cars['normalized_losses'].fillna(value=cars['normalized_losses'].mean())\n",
    "cars['bore'] = cars['bore'].astype('float')\n",
    "cars['stroke'] = cars['stroke'].astype('float')\n",
    "cars['horsepower'] = cars['horsepower'].astype('float')\n",
    "cars['peak_rpm'] = cars['peak_rpm'].astype('float')\n",
    "\n",
    "cars.head()\n",
    "\n",
    "## exploring other columns with missing values\n",
    "cars.info(null_counts=True)\n",
    "cars['price'] = cars['price'].replace('?', np.nan)\n",
    "cars['price'] = cars['price'].astype('float')\n",
    "cars['price'].describe()\n",
    "\n",
    "# we dropped rows where price was missing\n",
    "cars = cars.dropna()\n",
    "\n",
    "\n"
   ]
  },
  {
   "cell_type": "code",
   "execution_count": 8,
   "metadata": {
    "collapsed": false
   },
   "outputs": [
    {
     "data": {
      "text/html": [
       "<div>\n",
       "<style scoped>\n",
       "    .dataframe tbody tr th:only-of-type {\n",
       "        vertical-align: middle;\n",
       "    }\n",
       "\n",
       "    .dataframe tbody tr th {\n",
       "        vertical-align: top;\n",
       "    }\n",
       "\n",
       "    .dataframe thead th {\n",
       "        text-align: right;\n",
       "    }\n",
       "</style>\n",
       "<table border=\"1\" class=\"dataframe\">\n",
       "  <thead>\n",
       "    <tr style=\"text-align: right;\">\n",
       "      <th></th>\n",
       "      <th>symboling</th>\n",
       "      <th>normalized_losses</th>\n",
       "      <th>make</th>\n",
       "      <th>fuel_type</th>\n",
       "      <th>aspirations</th>\n",
       "      <th>num_doors</th>\n",
       "      <th>body_style</th>\n",
       "      <th>drive_wheels</th>\n",
       "      <th>engine_location</th>\n",
       "      <th>wheel_base</th>\n",
       "      <th>...</th>\n",
       "      <th>engine_size</th>\n",
       "      <th>fuel_system</th>\n",
       "      <th>bore</th>\n",
       "      <th>stroke</th>\n",
       "      <th>compression_ratio</th>\n",
       "      <th>horsepower</th>\n",
       "      <th>peak_rpm</th>\n",
       "      <th>city_mpg</th>\n",
       "      <th>highway_mpg</th>\n",
       "      <th>price</th>\n",
       "    </tr>\n",
       "  </thead>\n",
       "  <tbody>\n",
       "    <tr>\n",
       "      <th>0</th>\n",
       "      <td>3</td>\n",
       "      <td>122.0</td>\n",
       "      <td>alfa-romero</td>\n",
       "      <td>gas</td>\n",
       "      <td>std</td>\n",
       "      <td>two</td>\n",
       "      <td>convertible</td>\n",
       "      <td>rwd</td>\n",
       "      <td>front</td>\n",
       "      <td>88.6</td>\n",
       "      <td>...</td>\n",
       "      <td>130</td>\n",
       "      <td>mpfi</td>\n",
       "      <td>3.47</td>\n",
       "      <td>2.68</td>\n",
       "      <td>9.0</td>\n",
       "      <td>111.0</td>\n",
       "      <td>5000.0</td>\n",
       "      <td>21</td>\n",
       "      <td>27</td>\n",
       "      <td>13495.0</td>\n",
       "    </tr>\n",
       "    <tr>\n",
       "      <th>1</th>\n",
       "      <td>3</td>\n",
       "      <td>122.0</td>\n",
       "      <td>alfa-romero</td>\n",
       "      <td>gas</td>\n",
       "      <td>std</td>\n",
       "      <td>two</td>\n",
       "      <td>convertible</td>\n",
       "      <td>rwd</td>\n",
       "      <td>front</td>\n",
       "      <td>88.6</td>\n",
       "      <td>...</td>\n",
       "      <td>130</td>\n",
       "      <td>mpfi</td>\n",
       "      <td>3.47</td>\n",
       "      <td>2.68</td>\n",
       "      <td>9.0</td>\n",
       "      <td>111.0</td>\n",
       "      <td>5000.0</td>\n",
       "      <td>21</td>\n",
       "      <td>27</td>\n",
       "      <td>16500.0</td>\n",
       "    </tr>\n",
       "    <tr>\n",
       "      <th>2</th>\n",
       "      <td>1</td>\n",
       "      <td>122.0</td>\n",
       "      <td>alfa-romero</td>\n",
       "      <td>gas</td>\n",
       "      <td>std</td>\n",
       "      <td>two</td>\n",
       "      <td>hatchback</td>\n",
       "      <td>rwd</td>\n",
       "      <td>front</td>\n",
       "      <td>94.5</td>\n",
       "      <td>...</td>\n",
       "      <td>152</td>\n",
       "      <td>mpfi</td>\n",
       "      <td>2.68</td>\n",
       "      <td>3.47</td>\n",
       "      <td>9.0</td>\n",
       "      <td>154.0</td>\n",
       "      <td>5000.0</td>\n",
       "      <td>19</td>\n",
       "      <td>26</td>\n",
       "      <td>16500.0</td>\n",
       "    </tr>\n",
       "    <tr>\n",
       "      <th>3</th>\n",
       "      <td>2</td>\n",
       "      <td>164.0</td>\n",
       "      <td>audi</td>\n",
       "      <td>gas</td>\n",
       "      <td>std</td>\n",
       "      <td>four</td>\n",
       "      <td>sedan</td>\n",
       "      <td>fwd</td>\n",
       "      <td>front</td>\n",
       "      <td>99.8</td>\n",
       "      <td>...</td>\n",
       "      <td>109</td>\n",
       "      <td>mpfi</td>\n",
       "      <td>3.19</td>\n",
       "      <td>3.40</td>\n",
       "      <td>10.0</td>\n",
       "      <td>102.0</td>\n",
       "      <td>5500.0</td>\n",
       "      <td>24</td>\n",
       "      <td>30</td>\n",
       "      <td>13950.0</td>\n",
       "    </tr>\n",
       "    <tr>\n",
       "      <th>4</th>\n",
       "      <td>2</td>\n",
       "      <td>164.0</td>\n",
       "      <td>audi</td>\n",
       "      <td>gas</td>\n",
       "      <td>std</td>\n",
       "      <td>four</td>\n",
       "      <td>sedan</td>\n",
       "      <td>4wd</td>\n",
       "      <td>front</td>\n",
       "      <td>99.4</td>\n",
       "      <td>...</td>\n",
       "      <td>136</td>\n",
       "      <td>mpfi</td>\n",
       "      <td>3.19</td>\n",
       "      <td>3.40</td>\n",
       "      <td>8.0</td>\n",
       "      <td>115.0</td>\n",
       "      <td>5500.0</td>\n",
       "      <td>18</td>\n",
       "      <td>22</td>\n",
       "      <td>17450.0</td>\n",
       "    </tr>\n",
       "  </tbody>\n",
       "</table>\n",
       "<p>5 rows × 26 columns</p>\n",
       "</div>"
      ],
      "text/plain": [
       "   symboling  normalized_losses         make fuel_type aspirations num_doors  \\\n",
       "0          3              122.0  alfa-romero       gas         std       two   \n",
       "1          3              122.0  alfa-romero       gas         std       two   \n",
       "2          1              122.0  alfa-romero       gas         std       two   \n",
       "3          2              164.0         audi       gas         std      four   \n",
       "4          2              164.0         audi       gas         std      four   \n",
       "\n",
       "    body_style drive_wheels engine_location  wheel_base   ...     engine_size  \\\n",
       "0  convertible          rwd           front        88.6   ...             130   \n",
       "1  convertible          rwd           front        88.6   ...             130   \n",
       "2    hatchback          rwd           front        94.5   ...             152   \n",
       "3        sedan          fwd           front        99.8   ...             109   \n",
       "4        sedan          4wd           front        99.4   ...             136   \n",
       "\n",
       "   fuel_system  bore  stroke compression_ratio horsepower  peak_rpm city_mpg  \\\n",
       "0         mpfi  3.47    2.68               9.0      111.0    5000.0       21   \n",
       "1         mpfi  3.47    2.68               9.0      111.0    5000.0       21   \n",
       "2         mpfi  2.68    3.47               9.0      154.0    5000.0       19   \n",
       "3         mpfi  3.19    3.40              10.0      102.0    5500.0       24   \n",
       "4         mpfi  3.19    3.40               8.0      115.0    5500.0       18   \n",
       "\n",
       "   highway_mpg    price  \n",
       "0           27  13495.0  \n",
       "1           27  16500.0  \n",
       "2           26  16500.0  \n",
       "3           30  13950.0  \n",
       "4           22  17450.0  \n",
       "\n",
       "[5 rows x 26 columns]"
      ]
     },
     "execution_count": 8,
     "metadata": {},
     "output_type": "execute_result"
    }
   ],
   "source": [
    "## normalizing the normalized_losses column with values ranging \n",
    "## from 0 to 1\n",
    "\n",
    "cars.head()"
   ]
  },
  {
   "cell_type": "code",
   "execution_count": 9,
   "metadata": {
    "collapsed": false
   },
   "outputs": [
    {
     "name": "stderr",
     "output_type": "stream",
     "text": [
      "/dataquest/system/env/python3/lib/python3.4/site-packages/ipykernel/__main__.py:15: SettingWithCopyWarning: \n",
      "A value is trying to be set on a copy of a slice from a DataFrame.\n",
      "Try using .loc[row_indexer,col_indexer] = value instead\n",
      "\n",
      "See the caveats in the documentation: http://pandas.pydata.org/pandas-docs/stable/indexing.html#indexing-view-versus-copy\n"
     ]
    },
    {
     "data": {
      "text/html": [
       "<div>\n",
       "<style scoped>\n",
       "    .dataframe tbody tr th:only-of-type {\n",
       "        vertical-align: middle;\n",
       "    }\n",
       "\n",
       "    .dataframe tbody tr th {\n",
       "        vertical-align: top;\n",
       "    }\n",
       "\n",
       "    .dataframe thead th {\n",
       "        text-align: right;\n",
       "    }\n",
       "</style>\n",
       "<table border=\"1\" class=\"dataframe\">\n",
       "  <thead>\n",
       "    <tr style=\"text-align: right;\">\n",
       "      <th></th>\n",
       "      <th>symboling</th>\n",
       "      <th>normalized_losses</th>\n",
       "      <th>wheel_base</th>\n",
       "      <th>length</th>\n",
       "      <th>width</th>\n",
       "      <th>height</th>\n",
       "      <th>curb_weight</th>\n",
       "      <th>engine_size</th>\n",
       "      <th>bore</th>\n",
       "      <th>stroke</th>\n",
       "      <th>compression_ratio</th>\n",
       "      <th>horsepower</th>\n",
       "      <th>peak_rpm</th>\n",
       "      <th>city_mpg</th>\n",
       "      <th>highway_mpg</th>\n",
       "      <th>price</th>\n",
       "    </tr>\n",
       "  </thead>\n",
       "  <tbody>\n",
       "    <tr>\n",
       "      <th>0</th>\n",
       "      <td>1.0</td>\n",
       "      <td>0.298429</td>\n",
       "      <td>0.058309</td>\n",
       "      <td>0.413433</td>\n",
       "      <td>0.324786</td>\n",
       "      <td>0.083333</td>\n",
       "      <td>0.411171</td>\n",
       "      <td>0.260377</td>\n",
       "      <td>0.664286</td>\n",
       "      <td>0.290476</td>\n",
       "      <td>0.1250</td>\n",
       "      <td>0.294393</td>\n",
       "      <td>0.346939</td>\n",
       "      <td>0.222222</td>\n",
       "      <td>0.289474</td>\n",
       "      <td>13495.0</td>\n",
       "    </tr>\n",
       "    <tr>\n",
       "      <th>1</th>\n",
       "      <td>1.0</td>\n",
       "      <td>0.298429</td>\n",
       "      <td>0.058309</td>\n",
       "      <td>0.413433</td>\n",
       "      <td>0.324786</td>\n",
       "      <td>0.083333</td>\n",
       "      <td>0.411171</td>\n",
       "      <td>0.260377</td>\n",
       "      <td>0.664286</td>\n",
       "      <td>0.290476</td>\n",
       "      <td>0.1250</td>\n",
       "      <td>0.294393</td>\n",
       "      <td>0.346939</td>\n",
       "      <td>0.222222</td>\n",
       "      <td>0.289474</td>\n",
       "      <td>16500.0</td>\n",
       "    </tr>\n",
       "    <tr>\n",
       "      <th>2</th>\n",
       "      <td>0.6</td>\n",
       "      <td>0.298429</td>\n",
       "      <td>0.230321</td>\n",
       "      <td>0.449254</td>\n",
       "      <td>0.444444</td>\n",
       "      <td>0.383333</td>\n",
       "      <td>0.517843</td>\n",
       "      <td>0.343396</td>\n",
       "      <td>0.100000</td>\n",
       "      <td>0.666667</td>\n",
       "      <td>0.1250</td>\n",
       "      <td>0.495327</td>\n",
       "      <td>0.346939</td>\n",
       "      <td>0.166667</td>\n",
       "      <td>0.263158</td>\n",
       "      <td>16500.0</td>\n",
       "    </tr>\n",
       "    <tr>\n",
       "      <th>3</th>\n",
       "      <td>0.8</td>\n",
       "      <td>0.518325</td>\n",
       "      <td>0.384840</td>\n",
       "      <td>0.529851</td>\n",
       "      <td>0.504274</td>\n",
       "      <td>0.541667</td>\n",
       "      <td>0.329325</td>\n",
       "      <td>0.181132</td>\n",
       "      <td>0.464286</td>\n",
       "      <td>0.633333</td>\n",
       "      <td>0.1875</td>\n",
       "      <td>0.252336</td>\n",
       "      <td>0.551020</td>\n",
       "      <td>0.305556</td>\n",
       "      <td>0.368421</td>\n",
       "      <td>13950.0</td>\n",
       "    </tr>\n",
       "    <tr>\n",
       "      <th>4</th>\n",
       "      <td>0.8</td>\n",
       "      <td>0.518325</td>\n",
       "      <td>0.373178</td>\n",
       "      <td>0.529851</td>\n",
       "      <td>0.521368</td>\n",
       "      <td>0.541667</td>\n",
       "      <td>0.518231</td>\n",
       "      <td>0.283019</td>\n",
       "      <td>0.464286</td>\n",
       "      <td>0.633333</td>\n",
       "      <td>0.0625</td>\n",
       "      <td>0.313084</td>\n",
       "      <td>0.551020</td>\n",
       "      <td>0.138889</td>\n",
       "      <td>0.157895</td>\n",
       "      <td>17450.0</td>\n",
       "    </tr>\n",
       "  </tbody>\n",
       "</table>\n",
       "</div>"
      ],
      "text/plain": [
       "   symboling  normalized_losses  wheel_base    length     width    height  \\\n",
       "0        1.0           0.298429    0.058309  0.413433  0.324786  0.083333   \n",
       "1        1.0           0.298429    0.058309  0.413433  0.324786  0.083333   \n",
       "2        0.6           0.298429    0.230321  0.449254  0.444444  0.383333   \n",
       "3        0.8           0.518325    0.384840  0.529851  0.504274  0.541667   \n",
       "4        0.8           0.518325    0.373178  0.529851  0.521368  0.541667   \n",
       "\n",
       "   curb_weight  engine_size      bore    stroke  compression_ratio  \\\n",
       "0     0.411171     0.260377  0.664286  0.290476             0.1250   \n",
       "1     0.411171     0.260377  0.664286  0.290476             0.1250   \n",
       "2     0.517843     0.343396  0.100000  0.666667             0.1250   \n",
       "3     0.329325     0.181132  0.464286  0.633333             0.1875   \n",
       "4     0.518231     0.283019  0.464286  0.633333             0.0625   \n",
       "\n",
       "   horsepower  peak_rpm  city_mpg  highway_mpg    price  \n",
       "0    0.294393  0.346939  0.222222     0.289474  13495.0  \n",
       "1    0.294393  0.346939  0.222222     0.289474  16500.0  \n",
       "2    0.495327  0.346939  0.166667     0.263158  16500.0  \n",
       "3    0.252336  0.551020  0.305556     0.368421  13950.0  \n",
       "4    0.313084  0.551020  0.138889     0.157895  17450.0  "
      ]
     },
     "execution_count": 9,
     "metadata": {},
     "output_type": "execute_result"
    }
   ],
   "source": [
    "num_columns = []\n",
    "for i in cars.columns:\n",
    "    if cars[i].dtype != object:\n",
    "        num_columns.append(i)\n",
    "\n",
    "num_columns.remove('price')\n",
    "\n",
    "def normalize(element):\n",
    "    numerator = element - cars.min() \n",
    "    denominator = cars.max() - cars.min() \n",
    "    return numerator/denominator\n",
    "\n",
    "cars[num_columns] = (cars[num_columns] - cars[num_columns].min())/(cars[num_columns].max() - cars[num_columns].min())\n",
    "cars_num = cars[num_columns] \n",
    "cars_num['price'] = cars['price']\n",
    "cars_num.head()\n",
    "\n",
    "\n"
   ]
  },
  {
   "cell_type": "markdown",
   "metadata": {},
   "source": [
    "## Univariate Model \n"
   ]
  },
  {
   "cell_type": "code",
   "execution_count": 69,
   "metadata": {
    "collapsed": false
   },
   "outputs": [
    {
     "data": {
      "text/plain": [
       "7          [3256.7911913922107, engine_size]\n",
       "13             [3365.690869842357, city_mpg]\n",
       "6          [3743.0379850498143, curb_weight]\n",
       "14          [4287.737055620871, highway_mpg]\n",
       "11           [4819.382734441303, horsepower]\n",
       "4                [4967.1498710678625, width]\n",
       "2           [6030.6448230904825, wheel_base]\n",
       "3                 [6355.43956580811, length]\n",
       "5                [6584.669577538483, height]\n",
       "10    [6831.894457072454, compression_ratio]\n",
       "8                  [6936.225732274877, bore]\n",
       "0             [7440.953488619171, symboling]\n",
       "1     [7744.859556911841, normalized_losses]\n",
       "9                [8009.250604273901, stroke]\n",
       "12             [8171.480619990884, peak_rpm]\n",
       "dtype: object"
      ]
     },
     "execution_count": 69,
     "metadata": {},
     "output_type": "execute_result"
    }
   ],
   "source": [
    "from sklearn.neighbors import KNeighborsRegressor\n",
    "from sklearn.neighbors import KNeighborsRegressor\n",
    "from sklearn.metrics import mean_squared_error\n",
    "\n",
    "def knn_train_test(features,target, df):\n",
    "    size = df.shape[0]\n",
    "    training_rows = int(size*0.5) \n",
    "    # Randomize order of rows in data frame.\n",
    "    shuffled_index = np.random.permutation(df.index)\n",
    "    rand_df = df.reindex(shuffled_index)\n",
    "    training_df = rand_df.iloc[:training_rows]\n",
    "    test_df = rand_df.iloc[training_rows:]\n",
    "    knn = KNeighborsRegressor()\n",
    "    knn.fit(training_df[[features]], training_df[target])\n",
    "    predictions = knn.predict(test_df[[features]])\n",
    "    mse = mean_squared_error(predictions, test_df[target])\n",
    "    return mse**0.5\n",
    "\n",
    "#test each column\n",
    "rmses = []\n",
    "for i in num_columns:\n",
    "    rmses.append([knn_train_test(i, 'price', cars_num),i])\n",
    "\n",
    "results = pd.Series(rmses)\n",
    "sort_results = results.sort_values(ascending=True)\n",
    "sort_results\n"
   ]
  },
  {
   "cell_type": "markdown",
   "metadata": {},
   "source": [
    "From the results above, we can see that engine_size appears to have the lowest RMSE. "
   ]
  },
  {
   "cell_type": "code",
   "execution_count": 70,
   "metadata": {
    "collapsed": false
   },
   "outputs": [
    {
     "data": {
      "image/png": "[encoded data removed]",
      "text/plain": [
       "<matplotlib.figure.Figure at 0x7f30b8ad6be0>"
      ]
     },
     "metadata": {},
     "output_type": "display_data"
    },
    {
     "data": {
      "image/png": "[encoded data removed]",
      "text/plain": [
       "<matplotlib.figure.Figure at 0x7f30b8ad6898>"
      ]
     },
     "metadata": {},
     "output_type": "display_data"
    },
    {
     "data": {
      "image/png": "[encoded data removed]",
      "text/plain": [
       "<matplotlib.figure.Figure at 0x7f30b8ccdd68>"
      ]
     },
     "metadata": {},
     "output_type": "display_data"
    },
    {
     "data": {
      "image/png": "[encoded data removed]",
      "text/plain": [
       "<matplotlib.figure.Figure at 0x7f30b8aadcc0>"
      ]
     },
     "metadata": {},
     "output_type": "display_data"
    },
    {
     "data": {
      "image/png": "[encoded data removed]",
      "text/plain": [
       "<matplotlib.figure.Figure at 0x7f30b8efc198>"
      ]
     },
     "metadata": {},
     "output_type": "display_data"
    },
    {
     "data": {
      "image/png": "[encoded data removed]",
      "text/plain": [
       "<matplotlib.figure.Figure at 0x7f30b8ebbeb8>"
      ]
     },
     "metadata": {},
     "output_type": "display_data"
    },
    {
     "data": {
      "image/png": "[encoded data removed]",
      "text/plain": [
       "<matplotlib.figure.Figure at 0x7f30b8c2bf98>"
      ]
     },
     "metadata": {},
     "output_type": "display_data"
    },
    {
     "data": {
      "image/png": "[encoded data removed]",
      "text/plain": [
       "<matplotlib.figure.Figure at 0x7f30b8dfad68>"
      ]
     },
     "metadata": {},
     "output_type": "display_data"
    },
    {
     "data": {
      "image/png": "[encoded data removed]",
      "text/plain": [
       "<matplotlib.figure.Figure at 0x7f30b8e4afd0>"
      ]
     },
     "metadata": {},
     "output_type": "display_data"
    },
    {
     "data": {
      "image/png": "[encoded data removed]",
      "text/plain": [
       "<matplotlib.figure.Figure at 0x7f30b8df9048>"
      ]
     },
     "metadata": {},
     "output_type": "display_data"
    },
    {
     "data": {
      "image/png": "[encoded data removed]",
      "text/plain": [
       "<matplotlib.figure.Figure at 0x7f30b8b5a748>"
      ]
     },
     "metadata": {},
     "output_type": "display_data"
    },
    {
     "data": {
      "image/png": "[encoded data removed]",
      "text/plain": [
       "<matplotlib.figure.Figure at 0x7f30b9049470>"
      ]
     },
     "metadata": {},
     "output_type": "display_data"
    },
    {
     "data": {
      "image/png": "[encoded data removed]",
      "text/plain": [
       "<matplotlib.figure.Figure at 0x7f30b8cf8080>"
      ]
     },
     "metadata": {},
     "output_type": "display_data"
    },
    {
     "data": {
      "image/png": "[encoded data removed]",
      "text/plain": [
       "<matplotlib.figure.Figure at 0x7f30b8afffd0>"
      ]
     },
     "metadata": {},
     "output_type": "display_data"
    },
    {
     "data": {
      "image/png": "[encoded data removed]",
      "text/plain": [
       "<matplotlib.figure.Figure at 0x7f30b8d29ac8>"
      ]
     },
     "metadata": {},
     "output_type": "display_data"
    }
   ],
   "source": [
    "##Let's test for different k hyperparameter\n",
    "\n",
    "def knn_train_test(features,target, df, k):\n",
    "    size = df.shape[0]\n",
    "    training_rows = int(size*0.5)    \n",
    "    # Randomize order of rows in data frame.\n",
    "    shuffled_index = np.random.permutation(df.index)\n",
    "    rand_df = df.reindex(shuffled_index)\n",
    "    training_df = rand_df.iloc[:training_rows]\n",
    "    test_df = rand_df.iloc[training_rows:]\n",
    "    knn = KNeighborsRegressor(n_neighbors = k)\n",
    "    knn.fit(training_df[[features]], training_df[target])\n",
    "    predictions = knn.predict(test_df[[features]])\n",
    "    mse = mean_squared_error(predictions, test_df[target])\n",
    "    return mse**0.5\n",
    "\n",
    "import matplotlib.pyplot as plt\n",
    "%matplotlib inline\n",
    "#test each column\n",
    "for i in num_columns:\n",
    "    rmse = []\n",
    "    for k in [1,3,5,7,9]:\n",
    "        rmse.append(knn_train_test(i, 'price', cars_num, k))\n",
    "    plt.scatter(x=[1,3,5,7,9], y=rmse)\n",
    "    plt.title(i)\n",
    "    plt.show()"
   ]
  },
  {
   "cell_type": "markdown",
   "metadata": {},
   "source": [
    "We can see that as we vary the k parameter (n_neighbors) the value of RMSE varies. "
   ]
  },
  {
   "cell_type": "markdown",
   "metadata": {
    "collapsed": true
   },
   "source": [
    "## Multivariate Model "
   ]
  },
  {
   "cell_type": "code",
   "execution_count": 78,
   "metadata": {
    "collapsed": false
   },
   "outputs": [
    {
     "name": "stdout",
     "output_type": "stream",
     "text": [
      "two features 3044.6362569803946\n",
      "three features 3143.5029491540495\n",
      "four features 2920.385591897211\n",
      "five features 3225.156229828894\n"
     ]
    }
   ],
   "source": [
    "def knn_train_test(features,target, df):\n",
    "    size = df.shape[0]\n",
    "    training_rows = int(size*0.5) \n",
    "    # Randomize order of rows in data frame.\n",
    "    shuffled_index = np.random.permutation(df.index)\n",
    "    rand_df = df.reindex(shuffled_index)\n",
    "    training_df = rand_df.iloc[:training_rows]\n",
    "    test_df = rand_df.iloc[training_rows:]\n",
    "    knn = KNeighborsRegressor()\n",
    "    knn.fit(training_df[features], training_df[target])\n",
    "    predictions = knn.predict(test_df[features])\n",
    "    mse = mean_squared_error(predictions, test_df[target])\n",
    "    return mse**0.5\n",
    "sort_results\n",
    "\n",
    "features2 = ['engine_size', 'city_mpg']\n",
    "rmse2 = knn_train_test(features2, 'price', cars_num)\n",
    "print('two features ' + str(rmse2))\n",
    "\n",
    "features3 = ['engine_size','city_mpg', 'curb_weight']\n",
    "rmse3 = knn_train_test(features3, 'price', cars_num)\n",
    "print('three features ' + str(rmse3))\n",
    "\n",
    "features4 = ['engine_size','city_mpg', 'curb_weight', 'highway_mpg']\n",
    "rmse4 = knn_train_test(features4, 'price', cars_num)\n",
    "print('four features ' + str(rmse4))\n",
    "\n",
    "features5 = ['engine_size' ,'city_mpg', 'curb_weight', 'highway_mpg', 'horsepower']\n",
    "rmse5 = knn_train_test(features5, 'price', cars_num)\n",
    "print('five features ' + str(rmse5))\n",
    "\n"
   ]
  },
  {
   "cell_type": "code",
   "execution_count": 102,
   "metadata": {
    "collapsed": false
   },
   "outputs": [
    {
     "data": {
      "text/plain": [
       "{'features2': [3283.5609394830744,\n",
       "  2810.559038843472,\n",
       "  2884.273626350478,\n",
       "  3205.956709722295,\n",
       "  3345.300791062055,\n",
       "  3467.0973682932035,\n",
       "  3776.3662101003542,\n",
       "  3947.2182629828058,\n",
       "  4147.355953141936,\n",
       "  4330.426664736374,\n",
       "  4459.753282771168,\n",
       "  4431.197753146592,\n",
       "  4485.366337217043,\n",
       "  4606.087036688948,\n",
       "  4686.3701174723865,\n",
       "  4744.666394849414,\n",
       "  4750.900886903952,\n",
       "  4757.993077679204,\n",
       "  4863.560980363594,\n",
       "  4965.262090984216,\n",
       "  5010.968392952914,\n",
       "  5019.33615814639,\n",
       "  5093.034169443363,\n",
       "  5144.637679742976,\n",
       "  5189.084621986433],\n",
       " 'features3': [2845.207718034465,\n",
       "  2790.579354546403,\n",
       "  3054.9455954346045,\n",
       "  3424.025574099532,\n",
       "  3682.0462016846295,\n",
       "  3969.3795360848417,\n",
       "  4068.0186033556993,\n",
       "  4284.853722004465,\n",
       "  4493.4248488589565,\n",
       "  4581.427122171998,\n",
       "  4544.125120284567,\n",
       "  4540.442322556745,\n",
       "  4535.9660209736,\n",
       "  4557.115779930961,\n",
       "  4649.579869828096,\n",
       "  4678.602104064376,\n",
       "  4711.281554629307,\n",
       "  4813.03080165143,\n",
       "  4908.649293327492,\n",
       "  4946.867834598948,\n",
       "  5006.539941646018,\n",
       "  5066.85202374402,\n",
       "  5106.839396102278,\n",
       "  5101.246656176023,\n",
       "  5168.571817979146],\n",
       " 'features4': [2960.6311026153185,\n",
       "  2666.4725622548103,\n",
       "  3080.8810675435407,\n",
       "  3421.037346633599,\n",
       "  3917.8016610412697,\n",
       "  3978.9238329315044,\n",
       "  4117.980901591212,\n",
       "  4306.425282238308,\n",
       "  4480.82863540837,\n",
       "  4687.489624565837,\n",
       "  4607.027882451691,\n",
       "  4626.602404665153,\n",
       "  4616.444820517417,\n",
       "  4635.447387385859,\n",
       "  4641.568975218052,\n",
       "  4675.742843033789,\n",
       "  4721.688034566208,\n",
       "  4825.759933966482,\n",
       "  4935.93484916138,\n",
       "  5004.188667171681,\n",
       "  5057.394593160194,\n",
       "  5132.8360560964475,\n",
       "  5200.22929405575,\n",
       "  5224.571228908098,\n",
       "  5257.593147160012]}"
      ]
     },
     "execution_count": 102,
     "metadata": {},
     "output_type": "execute_result"
    }
   ],
   "source": [
    "## Fine Tuning the Hyperparameter\n",
    "\n",
    "def knn_train_test(features,target, df, k):\n",
    "    size = df.shape[0]\n",
    "    np.random.seed(1)\n",
    "    training_rows = int(size*0.5)    \n",
    "    # Randomize order of rows in data frame.\n",
    "    shuffled_index = np.random.permutation(df.index)\n",
    "    rand_df = df.reindex(shuffled_index)\n",
    "    training_df = rand_df.iloc[:training_rows]\n",
    "    test_df = rand_df.iloc[training_rows:]\n",
    "    knn = KNeighborsRegressor(n_neighbors = k)\n",
    "    knn.fit(training_df[features], training_df[target])\n",
    "    predictions = knn.predict(test_df[features])\n",
    "    mse = mean_squared_error(predictions, test_df[target])\n",
    "    return mse**0.5\n",
    "\n",
    "import matplotlib.pyplot as plt\n",
    "%matplotlib inline\n",
    "\n",
    "rmse_results = {}\n",
    "features2 = ['engine_size', 'city_mpg']\n",
    "rmse=[]\n",
    "for k in range(1,26):\n",
    "    rmse.append(knn_train_test(features2, 'price', cars_num, k))\n",
    "    rmse_results['features2'] = rmse\n",
    "\n",
    "features3 = ['engine_size','city_mpg', 'curb_weight']\n",
    "rmse=[]\n",
    "for k in range(1,26):\n",
    "    rmse.append(knn_train_test(features3, 'price', cars_num, k))\n",
    "    rmse_results['features3'] = rmse\n",
    "\n",
    "features4 = ['engine_size','city_mpg', 'curb_weight', 'highway_mpg']\n",
    "rmse=[]\n",
    "for k in range(1,26):\n",
    "    rmse.append(knn_train_test(features4, 'price', cars_num, k))\n",
    "    rmse_results['features4'] = rmse\n",
    "\n",
    "rmse_results"
   ]
  },
  {
   "cell_type": "code",
   "execution_count": 159,
   "metadata": {
    "collapsed": false
   },
   "outputs": [
    {
     "data": {
      "text/plain": [
       "<matplotlib.text.Text at 0x7f30b87fe5f8>"
      ]
     },
     "execution_count": 159,
     "metadata": {},
     "output_type": "execute_result"
    },
    {
     "data": {
      "image/png": "[encoded data removed]",
      "text/plain": [
       "<matplotlib.figure.Figure at 0x7f30b857f6d8>"
      ]
     },
     "metadata": {},
     "output_type": "display_data"
    }
   ],
   "source": [
    "import matplotlib.pyplot as plt\n",
    "%matplotlib inline\n",
    "\n",
    "plt.plot(rmse_results['features2'])\n",
    "plt.plot(rmse_results['features3'])\n",
    "plt.plot(rmse_results['features4'])\n",
    "plt.legend(['features2', 'features3', 'features4'], loc=5)\n",
    "plt.title('# of Features')\n",
    "plt.ylabel('RMSE')\n",
    "plt.xlabel('k value')\n",
    "\n",
    "#plt.legend(['features2', 'features3', 'features4'])\n",
    "\n",
    "#for k,v in rmse_results.items():\n",
    "#    plt.plot(v, label=k)\n",
    "#    plt.xlabel('k value')\n",
    "#    plt.ylabel('RMSE')\n",
    "    \n",
    "#plt.title('# of Features')\n",
    "#plt.legend(loc=5)\n"
   ]
  }
 ],
 "metadata": {
  "kernelspec": {
   "display_name": "Python 3",
   "language": "python",
   "name": "python3"
  },
  "language_info": {
   "codemirror_mode": {
    "name": "ipython",
    "version": 3
   },
   "file_extension": ".py",
   "mimetype": "text/x-python",
   "name": "python",
   "nbconvert_exporter": "python",
   "pygments_lexer": "ipython3",
   "version": "3.4.3"
  }
 },
 "nbformat": 4,
 "nbformat_minor": 2
}
