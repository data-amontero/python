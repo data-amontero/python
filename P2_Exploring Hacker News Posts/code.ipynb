{
 "cells": [
  {
   "cell_type": "markdown",
   "metadata": {
    "collapsed": true
   },
   "source": [
    "# P2. Exploring Hacker News Posts \n",
    "\n",
    "In this project we will explore data from Hacker News, a news site started by the startup incubator Y Combinator. It is similar to reddit, where users are able to post, comment, up-vote and down-vote posts. We will be analyzing 20k randomly sampled data points.\n"
   ]
  },
  {
   "cell_type": "code",
   "execution_count": 2,
   "metadata": {
    "collapsed": false
   },
   "outputs": [
    {
     "data": {
      "text/plain": [
       "[['id', 'title', 'url', 'num_points', 'num_comments', 'author', 'created_at'],\n",
       " ['12224879',\n",
       "  'Interactive Dynamic Video',\n",
       "  'http://www.interactivedynamicvideo.com/',\n",
       "  '386',\n",
       "  '52',\n",
       "  'ne0phyte',\n",
       "  '8/4/2016 11:52'],\n",
       " ['10975351',\n",
       "  'How to Use Open Source and Shut the Fuck Up at the Same Time',\n",
       "  'http://hueniverse.com/2016/01/26/how-to-use-open-source-and-shut-the-fuck-up-at-the-same-time/',\n",
       "  '39',\n",
       "  '10',\n",
       "  'josep2',\n",
       "  '1/26/2016 19:30'],\n",
       " ['11964716',\n",
       "  \"Florida DJs May Face Felony for April Fools' Water Joke\",\n",
       "  'http://www.thewire.com/entertainment/2013/04/florida-djs-april-fools-water-joke/63798/',\n",
       "  '2',\n",
       "  '1',\n",
       "  'vezycash',\n",
       "  '6/23/2016 22:20'],\n",
       " ['11919867',\n",
       "  'Technology ventures: From Idea to Enterprise',\n",
       "  'https://www.amazon.com/Technology-Ventures-Enterprise-Thomas-Byers/dp/0073523429',\n",
       "  '3',\n",
       "  '1',\n",
       "  'hswarna',\n",
       "  '6/17/2016 0:01']]"
      ]
     },
     "execution_count": 2,
     "metadata": {},
     "output_type": "execute_result"
    }
   ],
   "source": [
    "import csv\n",
    "file = open('hacker_news.csv')\n",
    "read_file = csv.reader(file)\n",
    "hn = list(read_file)\n",
    "hn[:5]\n",
    "\n",
    "## we will use the csv library for this project\n",
    "\n",
    "#import pandas as pd\n",
    "\n",
    "#hn2 = pd.read_csv('hacker_news.csv')\n",
    "#hn2.head()"
   ]
  },
  {
   "cell_type": "code",
   "execution_count": 3,
   "metadata": {
    "collapsed": false
   },
   "outputs": [
    {
     "data": {
      "text/plain": [
       "[['12224879',\n",
       "  'Interactive Dynamic Video',\n",
       "  'http://www.interactivedynamicvideo.com/',\n",
       "  '386',\n",
       "  '52',\n",
       "  'ne0phyte',\n",
       "  '8/4/2016 11:52'],\n",
       " ['10975351',\n",
       "  'How to Use Open Source and Shut the Fuck Up at the Same Time',\n",
       "  'http://hueniverse.com/2016/01/26/how-to-use-open-source-and-shut-the-fuck-up-at-the-same-time/',\n",
       "  '39',\n",
       "  '10',\n",
       "  'josep2',\n",
       "  '1/26/2016 19:30'],\n",
       " ['11964716',\n",
       "  \"Florida DJs May Face Felony for April Fools' Water Joke\",\n",
       "  'http://www.thewire.com/entertainment/2013/04/florida-djs-april-fools-water-joke/63798/',\n",
       "  '2',\n",
       "  '1',\n",
       "  'vezycash',\n",
       "  '6/23/2016 22:20'],\n",
       " ['11919867',\n",
       "  'Technology ventures: From Idea to Enterprise',\n",
       "  'https://www.amazon.com/Technology-Ventures-Enterprise-Thomas-Byers/dp/0073523429',\n",
       "  '3',\n",
       "  '1',\n",
       "  'hswarna',\n",
       "  '6/17/2016 0:01'],\n",
       " ['10301696',\n",
       "  'Note by Note: The Making of Steinway L1037 (2007)',\n",
       "  'http://www.nytimes.com/2007/11/07/movies/07stein.html?_r=0',\n",
       "  '8',\n",
       "  '2',\n",
       "  'walterbell',\n",
       "  '9/30/2015 4:12']]"
      ]
     },
     "execution_count": 3,
     "metadata": {},
     "output_type": "execute_result"
    }
   ],
   "source": [
    "## removing the header\n",
    "\n",
    "headers = hn[0]\n",
    "headers\n",
    "\n",
    "hn = hn[1:]\n",
    "hn[0:5]"
   ]
  },
  {
   "cell_type": "markdown",
   "metadata": {},
   "source": [
    "**Finding posts whose titles begin with 'Ask HN' or 'Show HN'**"
   ]
  },
  {
   "cell_type": "code",
   "execution_count": 4,
   "metadata": {
    "collapsed": false
   },
   "outputs": [
    {
     "name": "stdout",
     "output_type": "stream",
     "text": [
      "1744\n",
      "1162\n",
      "17194\n"
     ]
    }
   ],
   "source": [
    "ask_posts = []\n",
    "show_posts = []\n",
    "other_posts = []\n",
    "\n",
    "for row in hn:\n",
    "    title = row[1].lower()\n",
    "    if title.startswith('ask hn'):\n",
    "        ask_posts.append(row)\n",
    "    elif title.startswith('show hn'):\n",
    "        show_posts.append(row)\n",
    "    else:\n",
    "        other_posts.append(row)\n",
    "        \n",
    "print(len(ask_posts))\n",
    "print(len(show_posts))\n",
    "print(len(other_posts))"
   ]
  },
  {
   "cell_type": "markdown",
   "metadata": {},
   "source": [
    "**Which posts receive more comments on average?**"
   ]
  },
  {
   "cell_type": "code",
   "execution_count": 5,
   "metadata": {
    "collapsed": false
   },
   "outputs": [
    {
     "name": "stdout",
     "output_type": "stream",
     "text": [
      "14.038417431192661\n",
      "10.31669535283993\n"
     ]
    }
   ],
   "source": [
    "total_ask_comments = 0\n",
    "\n",
    "for comment in ask_posts:\n",
    "    num_comments = int(comment[4])\n",
    "    total_ask_comments += num_comments\n",
    "    \n",
    "avg_ask_comments = total_ask_comments/len(ask_posts)\n",
    "print(avg_ask_comments)\n",
    "\n",
    "total_show_comments = 0\n",
    "for comment in show_posts:\n",
    "    num_comments = int(comment[4])\n",
    "    total_show_comments += num_comments\n",
    "\n",
    "avg_show_comments = total_show_comments/len(show_posts)\n",
    "print(avg_show_comments)"
   ]
  },
  {
   "cell_type": "markdown",
   "metadata": {},
   "source": [
    "We can see that on average, 'Ask HN' posts have more comments than 'Show HN' posts."
   ]
  },
  {
   "cell_type": "markdown",
   "metadata": {},
   "source": [
    "**Analyzing # of comments per hour**"
   ]
  },
  {
   "cell_type": "code",
   "execution_count": 12,
   "metadata": {
    "collapsed": false
   },
   "outputs": [
    {
     "name": "stdout",
     "output_type": "stream",
     "text": [
      "[('00', 447), ('01', 683), ('02', 1381), ('03', 421), ('04', 337), ('05', 464), ('06', 397), ('07', 267), ('08', 492), ('09', 251), ('10', 793), ('11', 641), ('12', 687), ('13', 1253), ('14', 1416), ('15', 4477), ('16', 1814), ('17', 1146), ('18', 1439), ('19', 1188), ('20', 1722), ('21', 1745), ('22', 479), ('23', 543)]\n",
      "[('00', 55), ('01', 60), ('02', 58), ('03', 54), ('04', 47), ('05', 46), ('06', 44), ('07', 34), ('08', 48), ('09', 45), ('10', 59), ('11', 58), ('12', 73), ('13', 85), ('14', 107), ('15', 116), ('16', 108), ('17', 100), ('18', 109), ('19', 110), ('20', 80), ('21', 109), ('22', 71), ('23', 68)]\n"
     ]
    }
   ],
   "source": [
    "import datetime as dt\n",
    "\n",
    "result_list = []\n",
    "\n",
    "for row in ask_posts:\n",
    "    created_at = row[6]\n",
    "    num_comments = int(row[4])\n",
    "    result_list.append([created_at, num_comments])\n",
    "    \n",
    "counts_by_hour = {}\n",
    "comments_by_hour = {}\n",
    "\n",
    "for items in result_list:\n",
    "    my_datetime = dt.datetime.strptime(items[0],\"%m/%d/%Y %H:%M\")\n",
    "    hour = my_datetime.strftime('%H')\n",
    "    comment = items[1]\n",
    "    if hour not in counts_by_hour:\n",
    "        counts_by_hour[hour] = 1\n",
    "        comments_by_hour[hour] = comment\n",
    "    elif hour in counts_by_hour:\n",
    "        counts_by_hour[hour] += 1\n",
    "        comments_by_hour[hour] += comment\n",
    "\n",
    "print(sorted(comments_by_hour.items()))\n",
    "print(sorted(counts_by_hour.items()))"
   ]
  },
  {
   "cell_type": "markdown",
   "metadata": {},
   "source": [
    "**Calculating Average Number of Comments per Post per Hour**"
   ]
  },
  {
   "cell_type": "code",
   "execution_count": 16,
   "metadata": {
    "collapsed": false
   },
   "outputs": [
    {
     "name": "stdout",
     "output_type": "stream",
     "text": [
      "[['14', 13.233644859813085], ['17', 11.46], ['05', 10.08695652173913], ['08', 10.25], ['04', 7.170212765957447], ['12', 9.41095890410959], ['15', 38.5948275862069], ['03', 7.796296296296297], ['06', 9.022727272727273], ['20', 21.525], ['21', 16.009174311926607], ['07', 7.852941176470588], ['23', 7.985294117647059], ['09', 5.5777777777777775], ['16', 16.796296296296298], ['18', 13.20183486238532], ['22', 6.746478873239437], ['19', 10.8], ['02', 23.810344827586206], ['11', 11.051724137931034], ['13', 14.741176470588234], ['00', 8.127272727272727], ['01', 11.383333333333333], ['10', 13.440677966101696]]\n"
     ]
    }
   ],
   "source": [
    "avg_by_hour = []\n",
    "for hour in counts_by_hour:\n",
    "    total_comments = comments_by_hour[hour]\n",
    "    total_posts = counts_by_hour[hour]\n",
    "    avg_comments_posts= total_comments/total_posts\n",
    "    avg_by_hour.append([hour, avg_comments_posts])\n",
    "\n",
    "print(avg_by_hour)"
   ]
  },
  {
   "cell_type": "code",
   "execution_count": 28,
   "metadata": {
    "collapsed": false
   },
   "outputs": [
    {
     "name": "stdout",
     "output_type": "stream",
     "text": [
      "[[13.233644859813085, '14'], [11.46, '17'], [10.08695652173913, '05'], [10.25, '08'], [7.170212765957447, '04'], [9.41095890410959, '12'], [38.5948275862069, '15'], [7.796296296296297, '03'], [9.022727272727273, '06'], [21.525, '20'], [16.009174311926607, '21'], [7.852941176470588, '07'], [7.985294117647059, '23'], [5.5777777777777775, '09'], [16.796296296296298, '16'], [13.20183486238532, '18'], [6.746478873239437, '22'], [10.8, '19'], [23.810344827586206, '02'], [11.051724137931034, '11'], [14.741176470588234, '13'], [8.127272727272727, '00'], [11.383333333333333, '01'], [13.440677966101696, '10']]\n",
      "15:00 38.59 average comments per post\n",
      "02:00 23.81 average comments per post\n",
      "20:00 21.52 average comments per post\n",
      "16:00 16.80 average comments per post\n",
      "21:00 16.01 average comments per post\n"
     ]
    }
   ],
   "source": [
    "##sorting the list to a readable format\n",
    "\n",
    "swap_avg_by_hour = []\n",
    "\n",
    "for i in avg_by_hour:\n",
    "    swap_avg_by_hour.append([i[1], i[0]])\n",
    "\n",
    "print(swap_avg_by_hour)\n",
    "\n",
    "sorted_swap = sorted(swap_avg_by_hour, reverse = True)\n",
    "\n",
    "for i in sorted_swap[:5]:\n",
    "    beautify = '{}:00 {:.2f} average comments per post'.format(i[1],i[0])\n",
    "    print(beautify)"
   ]
  },
  {
   "cell_type": "markdown",
   "metadata": {},
   "source": [
    "To have a higher user engagement and post activity, it is recommended to post at 15:00 - which is when we can see the highest average # of comments per post. "
   ]
  }
 ],
 "metadata": {
  "kernelspec": {
   "display_name": "Python 3",
   "language": "python",
   "name": "python3"
  },
  "language_info": {
   "codemirror_mode": {
    "name": "ipython",
    "version": 3
   },
   "file_extension": ".py",
   "mimetype": "text/x-python",
   "name": "python",
   "nbconvert_exporter": "python",
   "pygments_lexer": "ipython3",
   "version": "3.4.3"
  }
 },
 "nbformat": 4,
 "nbformat_minor": 2
}
