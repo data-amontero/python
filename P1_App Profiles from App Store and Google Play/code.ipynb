{
 "cells": [
  {
   "cell_type": "markdown",
   "metadata": {},
   "source": [
    "# P1. Analyzing Mobile Apps Data To Increase Revenue\n",
    "\n",
    "In this project we will be analyzing data for a company that builds mobile apps for Android and iOS devices; these apps are available on Google Play and the App Store.\n",
    "\n",
    "These mobile apps are free to download and install, their main source of income is through in-app ads. The means of revenue for any app is correllated to the numbers of users who use the app, we aim to provide an analysis to help developers understand the type of apps that attract more users."
   ]
  },
  {
   "cell_type": "code",
   "execution_count": 1,
   "metadata": {
    "collapsed": true
   },
   "outputs": [],
   "source": [
    "def explore_data(dataset, start, end, rows_and_columns=False):\n",
    "    dataset_slice = dataset[start:end]    \n",
    "    for row in dataset_slice:\n",
    "        print(row)\n",
    "        print('\\n') # adds a new (empty) line after each row\n",
    "\n",
    "    if rows_and_columns:\n",
    "        print('Number of rows:', len(dataset))\n",
    "        print('Number of columns:', len(dataset[0]))"
   ]
  },
  {
   "cell_type": "code",
   "execution_count": 2,
   "metadata": {
    "collapsed": false
   },
   "outputs": [],
   "source": [
    "def open_file(name_file):\n",
    "    apps_data = []\n",
    "    from csv import reader\n",
    "    opened_file = open(name_file)\n",
    "    read_file = reader(opened_file)\n",
    "    apps_data = list(read_file)\n",
    "    return apps_data"
   ]
  },
  {
   "cell_type": "code",
   "execution_count": 3,
   "metadata": {
    "collapsed": false
   },
   "outputs": [
    {
     "name": "stdout",
     "output_type": "stream",
     "text": [
      "['id', 'track_name', 'size_bytes', 'currency', 'price', 'rating_count_tot', 'rating_count_ver', 'user_rating', 'user_rating_ver', 'ver', 'cont_rating', 'prime_genre', 'sup_devices.num', 'ipadSc_urls.num', 'lang.num', 'vpp_lic']\n",
      "['App', 'Category', 'Rating', 'Reviews', 'Size', 'Installs', 'Type', 'Price', 'Content Rating', 'Genres', 'Last Updated', 'Current Ver', 'Android Ver']\n"
     ]
    }
   ],
   "source": [
    "apple_store = open_file('AppleStore.csv')\n",
    "google_store = open_file('googleplaystore.csv')\n",
    "\n",
    "#explore_data(apple_store, 0, 5, True)\n",
    "#explore_data(google_store, 0,5, False)\n",
    "\n",
    "col_names_apple = apple_store[0]\n",
    "col_names_google = google_store[0]\n",
    "print(col_names_apple)\n",
    "print(col_names_google)\n"
   ]
  },
  {
   "cell_type": "markdown",
   "metadata": {},
   "source": [
    "**Potential Significant Variables in our analysis**\n",
    "\n",
    "| Column_Name      |  Description   |\n",
    "|------------------|----------------|\n",
    "|rating_count_total| total # ratings|\n",
    "| user_rating      | user rating    |\n",
    "| cont_rating      | content rating |\n",
    "| prime_genre      | genre          |\n",
    "| lang.num         | language       |\n"
   ]
  },
  {
   "cell_type": "markdown",
   "metadata": {},
   "source": [
    "**Data Cleaning **"
   ]
  },
  {
   "cell_type": "code",
   "execution_count": 4,
   "metadata": {
    "collapsed": false
   },
   "outputs": [
    {
     "name": "stdout",
     "output_type": "stream",
     "text": [
      "['Life Made WI-Fi Touchscreen Photo Frame', '1.9', '19', '3.0M', '1,000+', 'Free', '0', 'Everyone', '', 'February 11, 2018', '1.0.19', '4.0 and up']\n"
     ]
    }
   ],
   "source": [
    "'''This row contains an error (missing value), we will use the \n",
    "del statement to delete it, as this is an incorrect data entry'''\n",
    "print (google_store[10473])\n",
    "# only run the del statement once\n",
    "del google_store[10473]\n"
   ]
  },
  {
   "cell_type": "markdown",
   "metadata": {},
   "source": [
    "**Removing Duplicate Entries **\n",
    "\n",
    "It appears that the Google dataset contains some duplicate rows. "
   ]
  },
  {
   "cell_type": "code",
   "execution_count": 5,
   "metadata": {
    "collapsed": false
   },
   "outputs": [],
   "source": [
    "def duplicate_apps(dataset):\n",
    "    unique_app = []\n",
    "    duplicate_app_list = []\n",
    "    for app in dataset[1:]:\n",
    "        if dataset[0][-1] == 'Android Ver':\n",
    "            app_name = app[0]\n",
    "            if app_name in unique_app:\n",
    "                duplicate_app_list.append(app_name)\n",
    "            else:\n",
    "                unique_app.append(app_name)\n",
    "        ##this is for Apple store only\n",
    "        else:\n",
    "            app_name = app[1]\n",
    "            if app_name in unique_app:\n",
    "                duplicate_app_list.append(app_name)\n",
    "            else:\n",
    "                unique_app.append(app_name)        \n",
    "    return(duplicate_app_list)"
   ]
  },
  {
   "cell_type": "code",
   "execution_count": 6,
   "metadata": {
    "collapsed": false
   },
   "outputs": [
    {
     "name": "stdout",
     "output_type": "stream",
     "text": [
      "1181\n",
      "There are 1181 duplicate apps in Google Store\n",
      "2\n",
      "There are 2 duplicate apps in Apple Store\n",
      "['Quick PDF Scanner + OCR FREE', 'Box', 'Google My Business', 'ZOOM Cloud Meetings', 'join.me - Simple Meetings']\n"
     ]
    }
   ],
   "source": [
    "print(len(duplicate_apps(google_store)))\n",
    "\n",
    "print('There are 1181 duplicate apps in Google Store')\n",
    "\n",
    "print(len(duplicate_apps(apple_store)))\n",
    "\n",
    "print('There are 2 duplicate apps in Apple Store')\n",
    "\n",
    "test = (duplicate_apps(google_store))\n",
    "print(test[:5])"
   ]
  },
  {
   "cell_type": "markdown",
   "metadata": {},
   "source": [
    "**Criterion to remove duplicates: **\n",
    "\n",
    "Instead of removing duplicates randomly, we will keep the entry with the highest number of reviews and remove the other duplicate entries"
   ]
  },
  {
   "cell_type": "code",
   "execution_count": 7,
   "metadata": {
    "collapsed": false
   },
   "outputs": [
    {
     "name": "stdout",
     "output_type": "stream",
     "text": [
      "['Google My Business', 'BUSINESS', '4.4', '70991', 'Varies with device', '5,000,000+', 'Free', '0', 'Everyone', 'Business', 'July 24, 2018', '2.19.0.204537701', '4.4 and up']\n",
      "['Google My Business', 'BUSINESS', '4.4', '70991', 'Varies with device', '5,000,000+', 'Free', '0', 'Everyone', 'Business', 'July 24, 2018', '2.19.0.204537701', '4.4 and up']\n",
      "['Google My Business', 'BUSINESS', '4.4', '70991', 'Varies with device', '5,000,000+', 'Free', '0', 'Everyone', 'Business', 'July 24, 2018', '2.19.0.204537701', '4.4 and up']\n"
     ]
    }
   ],
   "source": [
    "for app in google_store[1:]:\n",
    "    name = app[0]\n",
    "    if name =='Google My Business':\n",
    "        print(app)\n",
    "    "
   ]
  },
  {
   "cell_type": "code",
   "execution_count": 8,
   "metadata": {
    "collapsed": false
   },
   "outputs": [],
   "source": [
    "#determine highest review count for each unique app\n",
    "def max_google_reviews(dataset):\n",
    "    reviews_max = {}\n",
    "    for row in dataset[1:]:\n",
    "        name = row[0]\n",
    "        n_reviews = float(row[3])\n",
    "        if name in reviews_max and reviews_max[name] < n_reviews:\n",
    "            reviews_max[name] = n_reviews\n",
    "        elif name not in reviews_max:\n",
    "            reviews_max[name] = n_reviews\n",
    "    return reviews_max\n",
    "\n",
    "reviews_max = max_google_reviews(google_store)\n",
    "\n",
    "#remove duplicates and keep app with highest review count\n",
    "def remove_google_dups(dataset, reviews_max):\n",
    "    android_clean = []\n",
    "    already_added = []\n",
    "    for row in dataset[1:]:\n",
    "        name = row[0]\n",
    "        n_reviews = float(row[3])\n",
    "        if n_reviews == reviews_max[name] and name not in already_added:\n",
    "            android_clean.append(row)\n",
    "            already_added.append(name)\n",
    "    return android_clean, already_added\n",
    "\n",
    "remove_dups = remove_google_dups(google_store, reviews_max)\n"
   ]
  },
  {
   "cell_type": "code",
   "execution_count": 9,
   "metadata": {
    "collapsed": true
   },
   "outputs": [],
   "source": [
    "#determine highest review count for each unique app\n",
    "def max_apple_reviews(dataset):\n",
    "    reviews_max = {}\n",
    "    for row in dataset[1:]:\n",
    "        name = row[1]\n",
    "        n_reviews = float(row[5])\n",
    "        if name in reviews_max and reviews_max[name] < n_reviews:\n",
    "            reviews_max[name] = n_reviews\n",
    "        elif name not in reviews_max:\n",
    "            reviews_max[name] = n_reviews\n",
    "    return reviews_max\n",
    "\n",
    "reviews_max_apple = max_apple_reviews(apple_store)\n",
    "\n",
    "#remove duplicates and keep app with highest review count\n",
    "def remove_apple_dups(dataset, reviews_max):\n",
    "    iOS_clean = []\n",
    "    already_added = []\n",
    "    for row in dataset[1:]:\n",
    "        name = row[1]\n",
    "        n_reviews = float(row[5])\n",
    "        if n_reviews == reviews_max[name] and name not in already_added:\n",
    "            iOS_clean.append(row)\n",
    "            already_added.append(name)\n",
    "    return iOS_clean, already_added\n",
    "\n",
    "remove_dups_apple = remove_apple_dups(apple_store, reviews_max_apple)"
   ]
  },
  {
   "cell_type": "code",
   "execution_count": 10,
   "metadata": {
    "collapsed": false
   },
   "outputs": [
    {
     "name": "stdout",
     "output_type": "stream",
     "text": [
      "9659\n",
      "7195 # of unique iOS apps\n"
     ]
    }
   ],
   "source": [
    "android_clean = remove_dups[0]\n",
    "android_already_added = remove_dups[1]\n",
    "print(len(android_already_added))\n",
    "\n",
    "iOS_clean = remove_dups_apple[0]\n",
    "iOS_already_added = remove_dups_apple[1]\n",
    "print(str(len(iOS_clean)) + ' # of unique iOS apps')"
   ]
  },
  {
   "cell_type": "markdown",
   "metadata": {},
   "source": [
    "**Removing non-English apps from both datasets**\n",
    "\n",
    "In this section we will remove non-English apps. Apps that don't have english characters and up to three non-English characters (e.g. emojis)."
   ]
  },
  {
   "cell_type": "code",
   "execution_count": 11,
   "metadata": {
    "collapsed": false
   },
   "outputs": [
    {
     "name": "stdout",
     "output_type": "stream",
     "text": [
      "True\n",
      "False\n",
      "True\n",
      "True\n"
     ]
    }
   ],
   "source": [
    "def is_english(string):\n",
    "    english = True\n",
    "    non_english_char = 0\n",
    "    for char in string:\n",
    "        if ord(char)> 127:\n",
    "            non_english_char += 1\n",
    "            if non_english_char >3:\n",
    "                english = False\n",
    "    return english\n",
    "\n",
    "#checking some examples with our function\n",
    "print(is_english('Instagram'))\n",
    "print(is_english('爱奇艺PPS -《欢乐颂2》电视剧热播'))\n",
    "print(is_english('Docs To Go™ Free Office Suite'))\n",
    "print(is_english('Instachat 😜'))"
   ]
  },
  {
   "cell_type": "code",
   "execution_count": 12,
   "metadata": {
    "collapsed": false
   },
   "outputs": [
    {
     "name": "stdout",
     "output_type": "stream",
     "text": [
      "6181\n",
      "9614\n"
     ]
    }
   ],
   "source": [
    "english_iOS_clean = []\n",
    "english_android_clean = []\n",
    "\n",
    "for row in iOS_clean:\n",
    "    name = row[1]\n",
    "    if is_english(name):\n",
    "        english_iOS_clean.append(row)\n",
    "\n",
    "\n",
    "for row in android_clean:\n",
    "    name = row[0]\n",
    "    if is_english(name):\n",
    "        english_android_clean.append(row)\n",
    "\n",
    "print(len(english_iOS_clean))\n",
    "print(len(english_android_clean))\n"
   ]
  },
  {
   "cell_type": "markdown",
   "metadata": {},
   "source": [
    "**Isolating free Apps**\n",
    "\n",
    "We will loop through the datasets to determine the apps that are free."
   ]
  },
  {
   "cell_type": "code",
   "execution_count": 13,
   "metadata": {
    "collapsed": false
   },
   "outputs": [
    {
     "name": "stdout",
     "output_type": "stream",
     "text": [
      "8864\n",
      "3220\n",
      "['U Launcher Lite – FREE Live Cool Themes, Hide Apps', 'ART_AND_DESIGN', '4.7', '87510', '8.7M', '5,000,000+', 'Free', '0', 'Everyone', 'Art & Design', 'August 1, 2018', '1.2.4', '4.0.3 and up']\n",
      "['389801252', 'Instagram', '113954816', 'USD', '0.0', '2161558', '1289', '4.5', '4.0', '10.23', '12+', 'Photo & Video', '37', '0', '29', '1']\n"
     ]
    }
   ],
   "source": [
    "google_free = []\n",
    "apple_free = []\n",
    "\n",
    "for row in english_android_clean:\n",
    "    price = row[7]\n",
    "    if price == '0':\n",
    "        google_free.append(row)\n",
    "        \n",
    "for row in english_iOS_clean:\n",
    "    price = float(row[4])\n",
    "    if price == 0:\n",
    "        apple_free.append(row)\n",
    "\n",
    "print(len(google_free))\n",
    "print(len(apple_free))\n",
    "\n",
    "print(google_free[1])\n",
    "print(apple_free[1])\n"
   ]
  },
  {
   "cell_type": "markdown",
   "metadata": {},
   "source": [
    "**Understanding Popular Genres for Android and iOS markets**"
   ]
  },
  {
   "cell_type": "markdown",
   "metadata": {},
   "source": [
    "Because the end goal is to add profitable apps in both App Store and Google play, we need to understand apps that are successful in both markets. "
   ]
  },
  {
   "cell_type": "code",
   "execution_count": 14,
   "metadata": {
    "collapsed": false
   },
   "outputs": [
    {
     "name": "stdout",
     "output_type": "stream",
     "text": [
      "{'AUTO_AND_VEHICLES': 82, 'HEALTH_AND_FITNESS': 273, 'DATING': 165, 'COMICS': 55, 'TRAVEL_AND_LOCAL': 207, 'SHOPPING': 199, 'COMMUNICATION': 287, 'LIFESTYLE': 346, 'GAME': 862, 'TOOLS': 750, 'MEDICAL': 313, 'EVENTS': 63, 'ART_AND_DESIGN': 57, 'PRODUCTIVITY': 345, 'NEWS_AND_MAGAZINES': 248, 'BUSINESS': 407, 'FINANCE': 328, 'LIBRARIES_AND_DEMO': 83, 'EDUCATION': 103, 'SOCIAL': 236, 'FOOD_AND_DRINK': 110, 'PARENTING': 58, 'SPORTS': 301, 'PERSONALIZATION': 294, 'HOUSE_AND_HOME': 73, 'BEAUTY': 53, 'BOOKS_AND_REFERENCE': 190, 'ENTERTAINMENT': 85, 'PHOTOGRAPHY': 261, 'WEATHER': 71, 'FAMILY': 1676, 'MAPS_AND_NAVIGATION': 124, 'VIDEO_PLAYERS': 159}\n",
      "{'Educational;Pretend Play': 8, 'Arcade;Action & Adventure': 11, 'Medical': 313, 'News & Magazines': 248, 'Health & Fitness;Education': 1, 'Video Players & Editors': 157, 'Comics': 54, 'Food & Drink': 110, 'Educational;Creativity': 3, 'Education;Brain Games': 3, 'Entertainment;Music & Video': 15, 'Parenting;Music & Video': 6, 'Board': 34, 'Entertainment;Education': 1, 'Comics;Creativity': 1, 'Productivity': 345, 'Auto & Vehicles': 82, 'Social': 236, 'Communication;Creativity': 1, 'Action;Action & Adventure': 9, 'Puzzle;Creativity': 2, 'Education;Pretend Play': 5, 'Puzzle;Action & Adventure': 3, 'Sports;Action & Adventure': 2, 'Racing;Pretend Play': 1, 'Lifestyle;Education': 1, 'Racing;Action & Adventure': 15, 'Dating': 165, 'Casual;Creativity': 6, 'Libraries & Demo': 83, 'Maps & Navigation': 124, 'Simulation': 181, 'Simulation;Education': 1, 'Adventure': 60, 'Educational;Action & Adventure': 3, 'Parenting': 44, 'House & Home': 73, 'Entertainment;Creativity': 3, 'Art & Design;Pretend Play': 1, 'Education;Music & Video': 3, 'Role Playing': 83, 'Strategy;Education': 1, 'Events': 63, 'Weather': 71, 'Word': 23, 'Strategy': 81, 'Adventure;Action & Adventure': 3, 'Action': 275, 'Arcade;Pretend Play': 1, 'Strategy;Creativity': 1, 'Tools;Education': 1, 'Education;Action & Adventure': 3, 'Board;Brain Games': 7, 'Music;Music & Video': 2, 'Role Playing;Brain Games': 1, 'Casino': 38, 'Strategy;Action & Adventure': 1, 'Casual;Brain Games': 12, 'Entertainment;Brain Games': 7, 'Entertainment': 538, 'Entertainment;Action & Adventure': 3, 'Travel & Local': 206, 'Video Players & Editors;Creativity': 1, 'Adventure;Education': 1, 'Puzzle': 100, 'Art & Design;Creativity': 6, 'Casual': 156, 'Trivia': 37, 'Business': 407, 'Education': 474, 'Sports': 307, 'Puzzle;Education': 1, 'Health & Fitness;Action & Adventure': 1, 'Simulation;Action & Adventure': 7, 'Books & Reference;Education': 1, 'Board;Action & Adventure': 2, 'Communication': 287, 'Entertainment;Pretend Play': 2, 'Lifestyle': 345, 'Educational;Brain Games': 6, 'Parenting;Brain Games': 1, 'Puzzle;Brain Games': 15, 'Travel & Local;Action & Adventure': 1, 'Card;Action & Adventure': 1, 'Art & Design;Action & Adventure': 1, 'Role Playing;Action & Adventure': 3, 'Arcade': 164, 'Educational': 33, 'Tools': 749, 'Photography': 261, 'Lifestyle;Pretend Play': 1, 'Beauty': 53, 'Casual;Action & Adventure': 12, 'Finance': 328, 'Education;Creativity': 4, 'Music & Audio;Music & Video': 1, 'Education;Education': 30, 'Racing': 88, 'Shopping': 199, 'Trivia;Education': 1, 'Casual;Education': 2, 'Music': 18, 'Role Playing;Pretend Play': 4, 'Personalization': 294, 'Books & Reference': 190, 'Educational;Education': 35, 'Casual;Music & Video': 1, 'Video Players & Editors;Music & Video': 2, 'Parenting;Education': 7, 'Casual;Pretend Play': 21, 'Card': 40, 'Simulation;Pretend Play': 2, 'Health & Fitness': 273, 'Art & Design': 53}\n",
      "{'Medical': 6, 'Photo & Video': 160, 'Finance': 36, 'Catalogs': 4, 'Business': 17, 'Education': 118, 'Sports': 69, 'Weather': 28, 'Social Networking': 106, 'Book': 14, 'Utilities': 81, 'Travel': 40, 'Productivity': 56, 'Music': 66, 'Games': 1872, 'Lifestyle': 51, 'Shopping': 84, 'Reference': 18, 'Navigation': 6, 'News': 43, 'Health & Fitness': 65, 'Food & Drink': 26, 'Entertainment': 254}\n"
     ]
    }
   ],
   "source": [
    "#building frequency tables\n",
    "google_ft_cat = {}\n",
    "google_ft_genre = {}\n",
    "apple_ft = {}\n",
    "for app in google_free:\n",
    "    genre = app[9]\n",
    "    if genre in google_ft_genre:\n",
    "        google_ft_genre[genre] += 1\n",
    "    else:\n",
    "        google_ft_genre[genre] = 1\n",
    "\n",
    "for app in google_free:\n",
    "    cat = app[1]\n",
    "    if cat in google_ft_cat:\n",
    "        google_ft_cat[cat] += 1\n",
    "    else:\n",
    "        google_ft_cat[cat] = 1\n",
    "\n",
    "\n",
    "for app in apple_free:\n",
    "    genre = app[11]\n",
    "    if genre in apple_ft:\n",
    "        apple_ft[genre] += 1\n",
    "    else:\n",
    "        apple_ft[genre] = 1\n",
    "\n",
    "print(google_ft_cat)\n",
    "print(google_ft_genre)\n",
    "print(apple_ft)"
   ]
  },
  {
   "cell_type": "code",
   "execution_count": 25,
   "metadata": {
    "collapsed": false
   },
   "outputs": [
    {
     "name": "stdout",
     "output_type": "stream",
     "text": [
      "Tools : 8.449909747292418\n",
      "Entertainment : 6.069494584837545\n",
      "Education : 5.347472924187725\n",
      "Business : 4.591606498194946\n",
      "Productivity : 3.892148014440433\n",
      "Lifestyle : 3.892148014440433\n",
      "Finance : 3.7003610108303246\n",
      "Medical : 3.531137184115524\n",
      "Sports : 3.463447653429603\n",
      "Personalization : 3.3167870036101084\n",
      "Communication : 3.2378158844765346\n",
      "Action : 3.1024368231046933\n",
      "Health & Fitness : 3.0798736462093865\n",
      "Photography : 2.944494584837545\n",
      "News & Magazines : 2.7978339350180503\n",
      "Social : 2.6624548736462095\n",
      "Travel & Local : 2.3240072202166067\n",
      "Shopping : 2.2450361010830324\n",
      "Books & Reference : 2.1435018050541514\n",
      "Simulation : 2.0419675090252705\n",
      "Dating : 1.861462093862816\n",
      "Arcade : 1.8501805054151623\n",
      "Video Players & Editors : 1.7712093862815883\n",
      "Casual : 1.7599277978339352\n",
      "Maps & Navigation : 1.3989169675090252\n",
      "Food & Drink : 1.2409747292418771\n",
      "Puzzle : 1.128158844765343\n",
      "Racing : 0.9927797833935018\n",
      "Role Playing : 0.9363718411552346\n",
      "Libraries & Demo : 0.9363718411552346\n",
      "Auto & Vehicles : 0.9250902527075812\n",
      "Strategy : 0.9138086642599278\n",
      "House & Home : 0.8235559566787004\n",
      "Weather : 0.8009927797833934\n",
      "Events : 0.7107400722021661\n",
      "Adventure : 0.6768953068592057\n",
      "Comics : 0.6092057761732852\n",
      "Beauty : 0.5979241877256317\n",
      "Art & Design : 0.5979241877256317\n",
      "Parenting : 0.4963898916967509\n",
      "Card : 0.45126353790613716\n",
      "Casino : 0.42870036101083037\n",
      "Trivia : 0.41741877256317694\n",
      "Educational;Education : 0.39485559566787\n",
      "Board : 0.3835740072202166\n",
      "Educational : 0.3722924187725632\n",
      "Education;Education : 0.33844765342960287\n",
      "Word : 0.2594765342960289\n",
      "Casual;Pretend Play : 0.236913357400722\n",
      "Music : 0.2030685920577617\n",
      "Racing;Action & Adventure : 0.16922382671480143\n",
      "Puzzle;Brain Games : 0.16922382671480143\n",
      "Entertainment;Music & Video : 0.16922382671480143\n",
      "Casual;Brain Games : 0.13537906137184114\n",
      "Casual;Action & Adventure : 0.13537906137184114\n",
      "Arcade;Action & Adventure : 0.12409747292418773\n",
      "Action;Action & Adventure : 0.10153429602888085\n",
      "Educational;Pretend Play : 0.09025270758122744\n",
      "Simulation;Action & Adventure : 0.078971119133574\n",
      "Parenting;Education : 0.078971119133574\n",
      "Entertainment;Brain Games : 0.078971119133574\n",
      "Board;Brain Games : 0.078971119133574\n",
      "Parenting;Music & Video : 0.06768953068592057\n",
      "Educational;Brain Games : 0.06768953068592057\n",
      "Casual;Creativity : 0.06768953068592057\n",
      "Art & Design;Creativity : 0.06768953068592057\n",
      "Education;Pretend Play : 0.056407942238267145\n",
      "Role Playing;Pretend Play : 0.04512635379061372\n",
      "Education;Creativity : 0.04512635379061372\n",
      "Role Playing;Action & Adventure : 0.033844765342960284\n",
      "Puzzle;Action & Adventure : 0.033844765342960284\n",
      "Entertainment;Creativity : 0.033844765342960284\n",
      "Entertainment;Action & Adventure : 0.033844765342960284\n",
      "Educational;Creativity : 0.033844765342960284\n",
      "Educational;Action & Adventure : 0.033844765342960284\n",
      "Education;Music & Video : 0.033844765342960284\n",
      "Education;Brain Games : 0.033844765342960284\n",
      "Education;Action & Adventure : 0.033844765342960284\n",
      "Adventure;Action & Adventure : 0.033844765342960284\n",
      "Video Players & Editors;Music & Video : 0.02256317689530686\n",
      "Sports;Action & Adventure : 0.02256317689530686\n",
      "Simulation;Pretend Play : 0.02256317689530686\n",
      "Puzzle;Creativity : 0.02256317689530686\n",
      "Music;Music & Video : 0.02256317689530686\n",
      "Entertainment;Pretend Play : 0.02256317689530686\n",
      "Casual;Education : 0.02256317689530686\n",
      "Board;Action & Adventure : 0.02256317689530686\n",
      "Video Players & Editors;Creativity : 0.01128158844765343\n",
      "Trivia;Education : 0.01128158844765343\n",
      "Travel & Local;Action & Adventure : 0.01128158844765343\n",
      "Tools;Education : 0.01128158844765343\n",
      "Strategy;Education : 0.01128158844765343\n",
      "Strategy;Creativity : 0.01128158844765343\n",
      "Strategy;Action & Adventure : 0.01128158844765343\n",
      "Simulation;Education : 0.01128158844765343\n",
      "Role Playing;Brain Games : 0.01128158844765343\n",
      "Racing;Pretend Play : 0.01128158844765343\n",
      "Puzzle;Education : 0.01128158844765343\n",
      "Parenting;Brain Games : 0.01128158844765343\n",
      "Music & Audio;Music & Video : 0.01128158844765343\n",
      "Lifestyle;Pretend Play : 0.01128158844765343\n",
      "Lifestyle;Education : 0.01128158844765343\n",
      "Health & Fitness;Education : 0.01128158844765343\n",
      "Health & Fitness;Action & Adventure : 0.01128158844765343\n",
      "Entertainment;Education : 0.01128158844765343\n",
      "Communication;Creativity : 0.01128158844765343\n",
      "Comics;Creativity : 0.01128158844765343\n",
      "Casual;Music & Video : 0.01128158844765343\n",
      "Card;Action & Adventure : 0.01128158844765343\n",
      "Books & Reference;Education : 0.01128158844765343\n",
      "Art & Design;Pretend Play : 0.01128158844765343\n",
      "Art & Design;Action & Adventure : 0.01128158844765343\n",
      "Arcade;Pretend Play : 0.01128158844765343\n",
      "Adventure;Education : 0.01128158844765343\n",
      "FAMILY : 18.907942238267147\n",
      "GAME : 9.724729241877256\n",
      "TOOLS : 8.461191335740072\n",
      "BUSINESS : 4.591606498194946\n",
      "LIFESTYLE : 3.9034296028880866\n",
      "PRODUCTIVITY : 3.892148014440433\n",
      "FINANCE : 3.7003610108303246\n",
      "MEDICAL : 3.531137184115524\n",
      "SPORTS : 3.395758122743682\n",
      "PERSONALIZATION : 3.3167870036101084\n",
      "COMMUNICATION : 3.2378158844765346\n",
      "HEALTH_AND_FITNESS : 3.0798736462093865\n",
      "PHOTOGRAPHY : 2.944494584837545\n",
      "NEWS_AND_MAGAZINES : 2.7978339350180503\n",
      "SOCIAL : 2.6624548736462095\n",
      "TRAVEL_AND_LOCAL : 2.33528880866426\n",
      "SHOPPING : 2.2450361010830324\n",
      "BOOKS_AND_REFERENCE : 2.1435018050541514\n",
      "DATING : 1.861462093862816\n",
      "VIDEO_PLAYERS : 1.7937725631768955\n",
      "MAPS_AND_NAVIGATION : 1.3989169675090252\n",
      "FOOD_AND_DRINK : 1.2409747292418771\n",
      "EDUCATION : 1.1620036101083033\n",
      "ENTERTAINMENT : 0.9589350180505415\n",
      "LIBRARIES_AND_DEMO : 0.9363718411552346\n",
      "AUTO_AND_VEHICLES : 0.9250902527075812\n",
      "HOUSE_AND_HOME : 0.8235559566787004\n",
      "WEATHER : 0.8009927797833934\n",
      "EVENTS : 0.7107400722021661\n",
      "PARENTING : 0.6543321299638989\n",
      "ART_AND_DESIGN : 0.6430505415162455\n",
      "COMICS : 0.6204873646209386\n",
      "BEAUTY : 0.5979241877256317\n",
      "Games : 58.13664596273293\n",
      "Entertainment : 7.888198757763975\n",
      "Photo & Video : 4.968944099378882\n",
      "Education : 3.6645962732919255\n",
      "Social Networking : 3.291925465838509\n",
      "Shopping : 2.608695652173913\n",
      "Utilities : 2.515527950310559\n",
      "Sports : 2.142857142857143\n",
      "Music : 2.049689440993789\n",
      "Health & Fitness : 2.018633540372671\n",
      "Productivity : 1.7391304347826086\n",
      "Lifestyle : 1.5838509316770186\n",
      "News : 1.3354037267080745\n",
      "Travel : 1.2422360248447204\n",
      "Finance : 1.1180124223602486\n",
      "Weather : 0.8695652173913043\n",
      "Food & Drink : 0.8074534161490683\n",
      "Reference : 0.5590062111801243\n",
      "Business : 0.5279503105590062\n",
      "Book : 0.43478260869565216\n",
      "Navigation : 0.18633540372670807\n",
      "Medical : 0.18633540372670807\n",
      "Catalogs : 0.12422360248447205\n"
     ]
    }
   ],
   "source": [
    "## creating a frequency table function\n",
    "\n",
    "def freq_table(dataset, index):\n",
    "    ft_dictionary = {}\n",
    "    total_ct = len(dataset)\n",
    "    for row in dataset:\n",
    "        ft_col = row[index]\n",
    "        if ft_col in ft_dictionary:\n",
    "            ft_dictionary[ft_col] += 1\n",
    "        else:\n",
    "            ft_dictionary[ft_col] = 1\n",
    "    for genre in ft_dictionary:\n",
    "        ft_dictionary[genre] = 100*(ft_dictionary[genre]/total_ct)\n",
    "        \n",
    "    return ft_dictionary\n",
    "\n",
    "## function to sort the values within the dictionary\n",
    "\n",
    "def display_table(dataset, index):\n",
    "    table = freq_table(dataset, index)\n",
    "    table_display = []\n",
    "    for key in table:\n",
    "        key_val_as_tuple = (table[key], key)\n",
    "        table_display.append(key_val_as_tuple)\n",
    "\n",
    "    table_sorted = sorted(table_display, reverse = True)\n",
    "    for entry in table_sorted:\n",
    "        print(entry[1], ':', entry[0])\n",
    "        \n",
    "display_table(google_free, 9)\n",
    "display_table(google_free, 1)\n",
    "display_table(apple_free, 11)"
   ]
  },
  {
   "cell_type": "markdown",
   "metadata": {},
   "source": [
    "**Analyzing Frequency Tables**"
   ]
  },
  {
   "cell_type": "code",
   "execution_count": 31,
   "metadata": {
    "collapsed": false
   },
   "outputs": [
    {
     "name": "stdout",
     "output_type": "stream",
     "text": [
      "Games : 58.13664596273293\n",
      "Entertainment : 7.888198757763975\n",
      "Photo & Video : 4.968944099378882\n",
      "Education : 3.6645962732919255\n",
      "Social Networking : 3.291925465838509\n",
      "Shopping : 2.608695652173913\n",
      "Utilities : 2.515527950310559\n",
      "Sports : 2.142857142857143\n",
      "Music : 2.049689440993789\n",
      "Health & Fitness : 2.018633540372671\n",
      "Productivity : 1.7391304347826086\n",
      "Lifestyle : 1.5838509316770186\n",
      "News : 1.3354037267080745\n",
      "Travel : 1.2422360248447204\n",
      "Finance : 1.1180124223602486\n",
      "Weather : 0.8695652173913043\n",
      "Food & Drink : 0.8074534161490683\n",
      "Reference : 0.5590062111801243\n",
      "Business : 0.5279503105590062\n",
      "Book : 0.43478260869565216\n",
      "Navigation : 0.18633540372670807\n",
      "Medical : 0.18633540372670807\n",
      "Catalogs : 0.12422360248447205\n"
     ]
    }
   ],
   "source": [
    "display_table(apple_free, 11)"
   ]
  },
  {
   "cell_type": "markdown",
   "metadata": {},
   "source": [
    "The most common genre in the App Store is 'Games', followed by 'Entertainment'. 'Games' apps take over 50% of all the apps developed, it is a competitive market. Although competitive, it seems to attract the most users. "
   ]
  },
  {
   "cell_type": "code",
   "execution_count": 33,
   "metadata": {
    "collapsed": false
   },
   "outputs": [
    {
     "name": "stdout",
     "output_type": "stream",
     "text": [
      "Tools : 8.449909747292418\n",
      "Entertainment : 6.069494584837545\n",
      "Education : 5.347472924187725\n",
      "Business : 4.591606498194946\n",
      "Productivity : 3.892148014440433\n",
      "Lifestyle : 3.892148014440433\n",
      "Finance : 3.7003610108303246\n",
      "Medical : 3.531137184115524\n",
      "Sports : 3.463447653429603\n",
      "Personalization : 3.3167870036101084\n",
      "Communication : 3.2378158844765346\n",
      "Action : 3.1024368231046933\n",
      "Health & Fitness : 3.0798736462093865\n",
      "Photography : 2.944494584837545\n",
      "News & Magazines : 2.7978339350180503\n",
      "Social : 2.6624548736462095\n",
      "Travel & Local : 2.3240072202166067\n",
      "Shopping : 2.2450361010830324\n",
      "Books & Reference : 2.1435018050541514\n",
      "Simulation : 2.0419675090252705\n",
      "Dating : 1.861462093862816\n",
      "Arcade : 1.8501805054151623\n",
      "Video Players & Editors : 1.7712093862815883\n",
      "Casual : 1.7599277978339352\n",
      "Maps & Navigation : 1.3989169675090252\n",
      "Food & Drink : 1.2409747292418771\n",
      "Puzzle : 1.128158844765343\n",
      "Racing : 0.9927797833935018\n",
      "Role Playing : 0.9363718411552346\n",
      "Libraries & Demo : 0.9363718411552346\n",
      "Auto & Vehicles : 0.9250902527075812\n",
      "Strategy : 0.9138086642599278\n",
      "House & Home : 0.8235559566787004\n",
      "Weather : 0.8009927797833934\n",
      "Events : 0.7107400722021661\n",
      "Adventure : 0.6768953068592057\n",
      "Comics : 0.6092057761732852\n",
      "Beauty : 0.5979241877256317\n",
      "Art & Design : 0.5979241877256317\n",
      "Parenting : 0.4963898916967509\n",
      "Card : 0.45126353790613716\n",
      "Casino : 0.42870036101083037\n",
      "Trivia : 0.41741877256317694\n",
      "Educational;Education : 0.39485559566787\n",
      "Board : 0.3835740072202166\n",
      "Educational : 0.3722924187725632\n",
      "Education;Education : 0.33844765342960287\n",
      "Word : 0.2594765342960289\n",
      "Casual;Pretend Play : 0.236913357400722\n",
      "Music : 0.2030685920577617\n",
      "Racing;Action & Adventure : 0.16922382671480143\n",
      "Puzzle;Brain Games : 0.16922382671480143\n",
      "Entertainment;Music & Video : 0.16922382671480143\n",
      "Casual;Brain Games : 0.13537906137184114\n",
      "Casual;Action & Adventure : 0.13537906137184114\n",
      "Arcade;Action & Adventure : 0.12409747292418773\n",
      "Action;Action & Adventure : 0.10153429602888085\n",
      "Educational;Pretend Play : 0.09025270758122744\n",
      "Simulation;Action & Adventure : 0.078971119133574\n",
      "Parenting;Education : 0.078971119133574\n",
      "Entertainment;Brain Games : 0.078971119133574\n",
      "Board;Brain Games : 0.078971119133574\n",
      "Parenting;Music & Video : 0.06768953068592057\n",
      "Educational;Brain Games : 0.06768953068592057\n",
      "Casual;Creativity : 0.06768953068592057\n",
      "Art & Design;Creativity : 0.06768953068592057\n",
      "Education;Pretend Play : 0.056407942238267145\n",
      "Role Playing;Pretend Play : 0.04512635379061372\n",
      "Education;Creativity : 0.04512635379061372\n",
      "Role Playing;Action & Adventure : 0.033844765342960284\n",
      "Puzzle;Action & Adventure : 0.033844765342960284\n",
      "Entertainment;Creativity : 0.033844765342960284\n",
      "Entertainment;Action & Adventure : 0.033844765342960284\n",
      "Educational;Creativity : 0.033844765342960284\n",
      "Educational;Action & Adventure : 0.033844765342960284\n",
      "Education;Music & Video : 0.033844765342960284\n",
      "Education;Brain Games : 0.033844765342960284\n",
      "Education;Action & Adventure : 0.033844765342960284\n",
      "Adventure;Action & Adventure : 0.033844765342960284\n",
      "Video Players & Editors;Music & Video : 0.02256317689530686\n",
      "Sports;Action & Adventure : 0.02256317689530686\n",
      "Simulation;Pretend Play : 0.02256317689530686\n",
      "Puzzle;Creativity : 0.02256317689530686\n",
      "Music;Music & Video : 0.02256317689530686\n",
      "Entertainment;Pretend Play : 0.02256317689530686\n",
      "Casual;Education : 0.02256317689530686\n",
      "Board;Action & Adventure : 0.02256317689530686\n",
      "Video Players & Editors;Creativity : 0.01128158844765343\n",
      "Trivia;Education : 0.01128158844765343\n",
      "Travel & Local;Action & Adventure : 0.01128158844765343\n",
      "Tools;Education : 0.01128158844765343\n",
      "Strategy;Education : 0.01128158844765343\n",
      "Strategy;Creativity : 0.01128158844765343\n",
      "Strategy;Action & Adventure : 0.01128158844765343\n",
      "Simulation;Education : 0.01128158844765343\n",
      "Role Playing;Brain Games : 0.01128158844765343\n",
      "Racing;Pretend Play : 0.01128158844765343\n",
      "Puzzle;Education : 0.01128158844765343\n",
      "Parenting;Brain Games : 0.01128158844765343\n",
      "Music & Audio;Music & Video : 0.01128158844765343\n",
      "Lifestyle;Pretend Play : 0.01128158844765343\n",
      "Lifestyle;Education : 0.01128158844765343\n",
      "Health & Fitness;Education : 0.01128158844765343\n",
      "Health & Fitness;Action & Adventure : 0.01128158844765343\n",
      "Entertainment;Education : 0.01128158844765343\n",
      "Communication;Creativity : 0.01128158844765343\n",
      "Comics;Creativity : 0.01128158844765343\n",
      "Casual;Music & Video : 0.01128158844765343\n",
      "Card;Action & Adventure : 0.01128158844765343\n",
      "Books & Reference;Education : 0.01128158844765343\n",
      "Art & Design;Pretend Play : 0.01128158844765343\n",
      "Art & Design;Action & Adventure : 0.01128158844765343\n",
      "Arcade;Pretend Play : 0.01128158844765343\n",
      "Adventure;Education : 0.01128158844765343\n"
     ]
    }
   ],
   "source": [
    "display_table(google_free, 9)"
   ]
  },
  {
   "cell_type": "markdown",
   "metadata": {},
   "source": [
    "The most popular genre in the Google Play market is 'Tools' followed by 'Entertainment'. The 'Tools' genre is not well represented within the App Store, given its popularity in the Google Play market it could be a popular app within the App Store as well. "
   ]
  },
  {
   "cell_type": "markdown",
   "metadata": {},
   "source": [
    "**Most Popular Apps by Genre on the App Store**"
   ]
  },
  {
   "cell_type": "code",
   "execution_count": 47,
   "metadata": {
    "collapsed": false
   },
   "outputs": [
    {
     "name": "stdout",
     "output_type": "stream",
     "text": [
      "Medical : 612.0\n",
      "Photo & Video : 28441.54375\n",
      "Finance : 31467.944444444445\n",
      "Catalogs : 4004.0\n",
      "Business : 7491.117647058823\n",
      "Education : 7003.983050847458\n",
      "Sports : 23008.898550724636\n",
      "Weather : 52279.892857142855\n",
      "Social Networking : 71548.34905660378\n",
      "Book : 39758.5\n",
      "Utilities : 18684.456790123455\n",
      "Travel : 28243.8\n",
      "Productivity : 21028.410714285714\n",
      "Music : 57326.530303030304\n",
      "Games : 22812.92467948718\n",
      "Lifestyle : 16485.764705882353\n",
      "Shopping : 26919.690476190477\n",
      "Reference : 74942.11111111111\n",
      "Navigation : 86090.33333333333\n",
      "News : 21248.023255813954\n",
      "Health & Fitness : 23298.015384615384\n",
      "Food & Drink : 33333.92307692308\n",
      "Entertainment : 14029.830708661417\n"
     ]
    }
   ],
   "source": [
    "iOS_genre = freq_table(apple_free, 11)\n",
    "iOS_genre\n",
    "\n",
    "for genre in iOS_genre:\n",
    "    total = 0\n",
    "    len_genre = 0\n",
    "    for app in apple_free:\n",
    "        genre_app = app[11]\n",
    "        if genre_app == genre:\n",
    "            total += float(app[5])\n",
    "            len_genre +=1\n",
    "    avg_num_rating = total/len_genre\n",
    "    print(genre, ':',avg_num_rating)"
   ]
  },
  {
   "cell_type": "markdown",
   "metadata": {},
   "source": [
    "Navigation apps appear to have the highest number of ratings in the App Store. "
   ]
  },
  {
   "cell_type": "code",
   "execution_count": 49,
   "metadata": {
    "collapsed": false
   },
   "outputs": [
    {
     "name": "stdout",
     "output_type": "stream",
     "text": [
      "1,000,000+ : 15.726534296028879\n",
      "100,000+ : 11.552346570397113\n",
      "10,000,000+ : 10.548285198555957\n",
      "10,000+ : 10.198555956678701\n",
      "1,000+ : 8.393501805054152\n",
      "100+ : 6.915613718411552\n",
      "5,000,000+ : 6.825361010830325\n",
      "500,000+ : 5.561823104693141\n",
      "50,000+ : 4.7721119133574\n",
      "5,000+ : 4.512635379061372\n",
      "10+ : 3.5424187725631766\n",
      "500+ : 3.2490974729241873\n",
      "50,000,000+ : 2.3014440433213\n",
      "100,000,000+ : 2.1322202166064983\n",
      "50+ : 1.917870036101083\n",
      "5+ : 0.78971119133574\n",
      "1+ : 0.5076714801444043\n",
      "500,000,000+ : 0.2707581227436823\n",
      "1,000,000,000+ : 0.22563176895306858\n",
      "0+ : 0.04512635379061372\n",
      "0 : 0.01128158844765343\n"
     ]
    }
   ],
   "source": [
    "display_table(google_free, 5)"
   ]
  },
  {
   "cell_type": "markdown",
   "metadata": {},
   "source": [
    "**Most Popular Apps by Genre on Google Play**"
   ]
  },
  {
   "cell_type": "code",
   "execution_count": 1,
   "metadata": {
    "collapsed": false
   },
   "outputs": [
    {
     "ename": "NameError",
     "evalue": "name 'freq_table' is not defined",
     "output_type": "error",
     "traceback": [
      "\u001b[1;31m\u001b[0m",
      "\u001b[1;31mNameError\u001b[0mTraceback (most recent call last)",
      "\u001b[1;32m<ipython-input-1-013a97c06e70>\u001b[0m in \u001b[0;36m<module>\u001b[1;34m()\u001b[0m\n\u001b[1;32m----> 1\u001b[1;33m \u001b[0mgoogle_cat\u001b[0m \u001b[1;33m=\u001b[0m \u001b[0mfreq_table\u001b[0m\u001b[1;33m(\u001b[0m\u001b[0mgoogle_free\u001b[0m\u001b[1;33m,\u001b[0m \u001b[1;36m1\u001b[0m\u001b[1;33m)\u001b[0m\u001b[1;33m\u001b[0m\u001b[0m\n\u001b[0m\u001b[0;32m      2\u001b[0m \u001b[1;33m\u001b[0m\u001b[0m\n\u001b[0;32m      3\u001b[0m \u001b[1;32mfor\u001b[0m \u001b[0mcat\u001b[0m \u001b[1;32min\u001b[0m \u001b[0mgoogle_cat\u001b[0m\u001b[1;33m:\u001b[0m\u001b[1;33m\u001b[0m\u001b[0m\n\u001b[0;32m      4\u001b[0m     \u001b[0mtotal\u001b[0m \u001b[1;33m=\u001b[0m \u001b[1;36m0\u001b[0m\u001b[1;33m\u001b[0m\u001b[0m\n\u001b[0;32m      5\u001b[0m     \u001b[0mlen_category\u001b[0m \u001b[1;33m=\u001b[0m \u001b[1;36m0\u001b[0m\u001b[1;33m\u001b[0m\u001b[0m\n",
      "\u001b[1;31mNameError\u001b[0m: name 'freq_table' is not defined"
     ]
    }
   ],
   "source": [
    "google_cat = freq_table(google_free, 1)\n",
    "\n",
    "for cat in google_cat:\n",
    "    total = 0\n",
    "    len_category = 0\n",
    "    for app in google_free:\n",
    "        category_app = app[1]\n",
    "        if category_app == cat:\n",
    "            n_install = app[5]\n",
    "            n_install = n_install.replace('+', '')\n",
    "            n_install = n_install.replace(',', '')\n",
    "            n_install = float(n_install)\n",
    "            total += n_install\n",
    "            len_category += 1\n",
    "    avg_num_install = total/len_category\n",
    "    print(cat, ':', avg_num_install)"
   ]
  },
  {
   "cell_type": "markdown",
   "metadata": {},
   "source": [
    "The 'Communications' category appear to have the highest number of installs. "
   ]
  }
 ],
 "metadata": {
  "kernelspec": {
   "display_name": "Python 3",
   "language": "python",
   "name": "python3"
  },
  "language_info": {
   "codemirror_mode": {
    "name": "ipython",
    "version": 3
   },
   "file_extension": ".py",
   "mimetype": "text/x-python",
   "name": "python",
   "nbconvert_exporter": "python",
   "pygments_lexer": "ipython3",
   "version": "3.4.3"
  }
 },
 "nbformat": 4,
 "nbformat_minor": 2
}
